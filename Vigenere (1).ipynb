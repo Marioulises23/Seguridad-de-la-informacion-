{
  "nbformat": 4,
  "nbformat_minor": 0,
  "metadata": {
    "colab": {
      "provenance": []
    },
    "kernelspec": {
      "name": "python3",
      "display_name": "Python 3"
    },
    "language_info": {
      "name": "python"
    }
  },
  "cells": [
    {
      "cell_type": "code",
      "source": [
        "import string"
      ],
      "metadata": {
        "id": "caa9sOXjr88P"
      },
      "execution_count": 2,
      "outputs": []
    },
    {
      "cell_type": "markdown",
      "source": [
        "**Codigo Vigenere**\n",
        "\n"
      ],
      "metadata": {
        "id": "7hHL881Bv6aM"
      }
    },
    {
      "cell_type": "markdown",
      "source": [
        "# **Funciones a utilizar**"
      ],
      "metadata": {
        "id": "eO6aEJPVU6QT"
      }
    },
    {
      "cell_type": "code",
      "execution_count": 8,
      "metadata": {
        "id": "2Bqb2-DTvVmi"
      },
      "outputs": [],
      "source": [
        "def ngramas(texto, n):\n",
        "  \"\"\"Dividee el texto en ngramas.\"\"\"\n",
        "  texto = texto.replace(\" \",\"\")\n",
        "  return[texto[i:i+n] for i in range(len(texto)-n+1)]"
      ]
    },
    {
      "cell_type": "code",
      "source": [
        "from collections import Counter\n",
        "import pandas as pd\n",
        "\n",
        "def frec_ngramas(texto, n):\n",
        "  \"\"\"Calcula las frecuencias de los ngramas de un texto.\"\"\"\n",
        "  ng = ngramas(texto, n)\n",
        "  frecuencias = Counter(ng)\n",
        "  return pd.DataFrame(frecuencias.most_common(), columns = [\"ngramas\", \"frecuencia\"])"
      ],
      "metadata": {
        "id": "4xug6t7v600G"
      },
      "execution_count": 9,
      "outputs": []
    },
    {
      "cell_type": "code",
      "source": [
        "def leer_frecuencias(archivo):\n",
        "  \"\"\"Lee un fichero de con las frecuencias de los ngramas para el idioma español.\"\"\"\n",
        "  return  pd.read_csv(archivo, sep = \" \", names = [\"letra\", \"frecuencia\"])"
      ],
      "metadata": {
        "id": "lgM8Y7F27kcu"
      },
      "execution_count": 10,
      "outputs": []
    },
    {
      "cell_type": "code",
      "source": [
        "def leer_texto_cifrado(texto_cifrado, n):\n",
        "  \"\"\"Lee el texto cifrado y calcula las frecuencias de los ngramas.\"\"\"\n",
        "  with open(texto_cifrado, \"r\") as f:\n",
        "    texto = f.readlines()[0]\n",
        "  return frec_ngramas(texto, n)"
      ],
      "metadata": {
        "id": "stMXwSlf8bUO"
      },
      "execution_count": 11,
      "outputs": []
    },
    {
      "cell_type": "markdown",
      "source": [
        "# Archivo"
      ],
      "metadata": {
        "id": "m8ZIkurDVQOj"
      }
    },
    {
      "cell_type": "code",
      "source": [
        "with open(\"texto_cifrado.txt\") as f:\n",
        "  texto_cifrado = f.readlines()[0]"
      ],
      "metadata": {
        "id": "ZTB3orHF8yDe",
        "colab": {
          "base_uri": "https://localhost:8080/",
          "height": 159
        },
        "outputId": "e1805252-f9de-4872-d5bc-c26b286f95a2"
      },
      "execution_count": 12,
      "outputs": [
        {
          "output_type": "error",
          "ename": "FileNotFoundError",
          "evalue": "[Errno 2] No such file or directory: 'texto_cifrado.txt'",
          "traceback": [
            "\u001b[0;31m---------------------------------------------------------------------------\u001b[0m",
            "\u001b[0;31mFileNotFoundError\u001b[0m                         Traceback (most recent call last)",
            "\u001b[0;32m<ipython-input-12-2d5fcfb06461>\u001b[0m in \u001b[0;36m<cell line: 0>\u001b[0;34m()\u001b[0m\n\u001b[0;32m----> 1\u001b[0;31m \u001b[0;32mwith\u001b[0m \u001b[0mopen\u001b[0m\u001b[0;34m(\u001b[0m\u001b[0;34m\"texto_cifrado.txt\"\u001b[0m\u001b[0;34m)\u001b[0m \u001b[0;32mas\u001b[0m \u001b[0mf\u001b[0m\u001b[0;34m:\u001b[0m\u001b[0;34m\u001b[0m\u001b[0;34m\u001b[0m\u001b[0m\n\u001b[0m\u001b[1;32m      2\u001b[0m   \u001b[0mtexto_cifrado\u001b[0m \u001b[0;34m=\u001b[0m \u001b[0mf\u001b[0m\u001b[0;34m.\u001b[0m\u001b[0mreadlines\u001b[0m\u001b[0;34m(\u001b[0m\u001b[0;34m)\u001b[0m\u001b[0;34m[\u001b[0m\u001b[0;36m0\u001b[0m\u001b[0;34m]\u001b[0m\u001b[0;34m\u001b[0m\u001b[0;34m\u001b[0m\u001b[0m\n",
            "\u001b[0;31mFileNotFoundError\u001b[0m: [Errno 2] No such file or directory: 'texto_cifrado.txt'"
          ]
        }
      ]
    },
    {
      "cell_type": "code",
      "source": [
        "texto_cifrado"
      ],
      "metadata": {
        "id": "00GFZMlI9f5f"
      },
      "execution_count": null,
      "outputs": []
    },
    {
      "cell_type": "markdown",
      "source": [
        "Creacion de key y lista"
      ],
      "metadata": {
        "id": "cNI4F3qEVUxL"
      }
    },
    {
      "cell_type": "code",
      "source": [
        "lkeyword = 4"
      ],
      "metadata": {
        "id": "XO5nv4Rg9iB_"
      },
      "execution_count": null,
      "outputs": []
    },
    {
      "cell_type": "code",
      "source": [
        "list(range(0, len(texto_cifrado), lkeyword))"
      ],
      "metadata": {
        "id": "caF0jcgh9owu"
      },
      "execution_count": null,
      "outputs": []
    },
    {
      "cell_type": "markdown",
      "source": [
        "# Texto Plano"
      ],
      "metadata": {
        "id": "-XYscuxm_SyP"
      }
    },
    {
      "cell_type": "code",
      "source": [
        "with open('texto_plano.txt', encoding = 'latin-1') as f:\n",
        "  texto_plano = f.readlines()[0]"
      ],
      "metadata": {
        "id": "LLLZKy1p_N6_"
      },
      "execution_count": 12,
      "outputs": []
    },
    {
      "cell_type": "code",
      "source": [
        "texto_plano = texto_plano.replace(\" \", \"\").replace(\",\", \"\").replace(\".\", \"\").replace(\":\", \"\").replace(\";\", \"\")"
      ],
      "metadata": {
        "id": "YfFiKBL1_kM3"
      },
      "execution_count": 13,
      "outputs": []
    },
    {
      "cell_type": "code",
      "source": [
        "texto_plano"
      ],
      "metadata": {
        "colab": {
          "base_uri": "https://localhost:8080/",
          "height": 122
        },
        "id": "9QaYFAZU_9hf",
        "outputId": "a082d444-11c4-4b59-a824-6373d335750b"
      },
      "execution_count": 14,
      "outputs": [
        {
          "output_type": "execute_result",
          "data": {
            "text/plain": [
              "'AlrededordelacatedralseextendíaenestrechazonaelprimitivorecintodeVetustaComprendíaloquesellamabaelbarriodelaEncimadaydominabatodoelpuebloquesehabíaidoestirandoporNoroesteyporSudesteDesdelatorreseveíaenalgunospatiosyjardinesdecasasviejasyruinosasrestosdelaantiguamurallaconvertidosenterradosoparedesmedianerasentrehuertosycorralesLaEncimadaeraelbarrionobleyelbarriopobredeVetustaLosmáslinajudosylosmásandrajososvivíanallícercaunosdeotrosaquellosasusanchaslosotrosapiñadosElbuenvetustenteeradelaEncimadaAlgunosfatuosestimabanenmucholapropiedaddeunacasapormiserablequefueraenlapartealtadelaciudadalasombradelacatedralodeSantaMaríalaMayorodeSanPedrolasdosantiquísimasiglesiasvecinasdelaBasílicayparroquiasquesedividíanelnobleterritoriodelaEncimadaElMagistralveíaasuspieselbarriolinajudocompuestodecaseronesconínfulasdepalaciosconventosgrandescomopueblosytuguriosdondeseamontonabalaplebevetustensedemasiadopobreparapoderhabitarlasbarriadasnuevasalláabajoenelCampodelsolalSudestedondelaFábricaViejalevantabasusaugustaschimeneasenrededordelascualesunpueblodeobreroshabíasurgidoCasitodaslascallesdelaEncimadaeranestrechastortuosashúmedassinsolcrecíaenalgunaslayerbalalimpiezadeaquellasenquepredominabaelvecindarionobleodetalespretensionesporlomenoseratristecasimiserablecomolalimpiezadelascocinaspobresdeloshospiciosparecíaquelaescobamunicipalylaescobadelanoblezapulcrahabíandejadoenaquellasplazuelasycallejaslashuellasqueelcepillodejaenelpañoraídoHabíaporallímuypocastiendasynomuylucidasDesdelatorreseveíalahistoriadelasclasesprivilegiadascontadaporpiedrasyadobesenelrecintoviejodeVetustaLaiglesiaantetodolosconventosocupabancercadelamitaddelterrenoSantoDomingosolotomabaunaquintapartedeláreatotaldelaEncimadaseguíaentamañolasRecoletasdondesehabíanreunidoentiempodelaRevolucióndeSeptiembredoscomunidadesdemonjasquejuntaserandiezyocupabanconsuconventoyhuertolasextapartedelbarrioVerdaderaqueSanVicenteestabaconvertidoencuartelydentrodesusmurosretumbabalaindiscretavozdelacornetaprofanaciónconstantedelsagradosilencioseculardelconventoampulosoyplaterescodelasClarisashabíahechoelEstadounedificioparatodaclasedeoficinasyencuantoaSanBenitoeralóbregaprisióndemalsegurosdelincuentesTodoestoeratristeperoelMagistralqueveíaconamarguraenloslabiosestosdespojosdequeledabaelocuenterepresentaciónelcatalejopodíaabrirelpechoalconsueloyalaesperanzacontemplandofueradelbarrionoblealOesteyalNortegráficasseñalesdelaferedivivaenlosalrededoresdeVetustadondeconstruíalapiedadnuevasmoradasparalavidaconventualmáslujosasmáselegantesquelasantiguassinotansólidasnitangrandesLaRevoluciónhabíaderribadohabíarobadoperolaRestauraciónquenopodíarestituiralentabaelespírituquereedificabayyalasHermanitasdelosPobresteníancoronadoeledificiodesupropiedadtacitadeplataquebrillabacercadelEspolónalOestenolejosdelospalaciosychaletsdelaColoniaoseaelbarrionuevodeamericanosycomerciantesdelreinoHaciaelNorteentrepradosdeterciopelotupidodeunverdeobscurofuerteselevantabalablancafábricaqueconsumasfabulosasconstruíanlasSalesasporahoraarrinconadasdentrodeVetustacercadelosvertederosdelaEncimadacasisepultadasenlascloacasenunacasaviejaqueteníaporiglesiaunoratoriomezquinoAllícomoennichoshabitabanlasherederasdemuchasfamiliasricasynobleshabíandejadoenobsequioalCrucificadoelregalodesupalacioanchoycómododealláarribaporlaestrechezinsanadeaquellapocilgamientrassuspadreshermanosyotrosparientesregalabanelperezosocuerpoenlasanchurasdeloscaseronestristesperoespaciososdelaEncimadaNosóloeralaiglesiaquienpodíadesperezarseyestirarlaspiernasenelrecintodeVetustaladearribatambiénlosherederosdepergaminosycasassolariegashabíantomadoparasíanchascuadrasyjardinesyhuertasquepodíanpasarporbosquesconrelaciónaláreadelpuebloyqueenefectosellamabanalgohiperbólicamenteparquescuandoerantanextensoscomoeldelosOzoresyeldelosVegallanaYmientrasnosóloalosconventosyalospalaciossinotambiénalosárbolesselesdejabacampoabiertoparaalargarseyensancharsecomoqueríanlosmíserosplebeyosqueafuerzadepobresnohabíanpodidohuirloscodazosdelegoísmonobleoregularvivíanhacinadosencasasdetierraqueelmunicipioobligabaataparconunacapadecalyeradevercómoaquellascasuchasapiñadasseenchufabanysaltabanunassobreotrasysemetíanlostejadosporlosojososeanlasventanasParecíanunrebañoderetozonasresesqueapretadasenuncaminobrincanyseencaramanenloslomosdequienencuentrandelante\\n'"
            ],
            "application/vnd.google.colaboratory.intrinsic+json": {
              "type": "string"
            }
          },
          "metadata": {},
          "execution_count": 14
        }
      ]
    },
    {
      "cell_type": "markdown",
      "source": [
        "# Primera Palabra"
      ],
      "metadata": {
        "id": "sbfEgl9TVbCy"
      }
    },
    {
      "cell_type": "code",
      "source": [
        "texto_cifrado_1 = \"\"\n",
        "\n",
        "for i in range(0, len(texto_cifrado), lkeyword):\n",
        "  texto_cifrado_1 += texto_cifrado[i]\n",
        "\n",
        "texto_cifrado_1"
      ],
      "metadata": {
        "id": "eX8ohwWd9xA3",
        "colab": {
          "base_uri": "https://localhost:8080/",
          "height": 122
        },
        "outputId": "d0a38fce-4135-4d35-9475-480a709d9b50"
      },
      "execution_count": 15,
      "outputs": [
        {
          "output_type": "execute_result",
          "data": {
            "text/plain": [
              "'HKGHLUIKFGHHGCGFLAPGTBLZLGKLZMTHXAXVJKCFXGCXKLKCLLFAOXHFLHLMFVCLFAGHETLGXHLKLLLGMGVFHGJTJLGOLLCVUNVVHHXEHPHVCHUHHHVXTXJEVCHHTHADXCJFQOTKFVGLULGUGULTKVGUCHLCGHXLOXKFAZWTLHUVPHBVVEHFLGGLFHUTHTALJTFKZVLLLFAKUXFCGLZLVWXFLFHHJCLKVXGGKHHVGHLHHXUOUHKLKDTTUFHHVPLVLXUAVAXJXJAKVKHUKLZLLLVCHZVVGHUHMHTLLLVALTHLKXULLLVLGLLGLTLUZUTKVTOLUXPOPALJFOUPKFLAHTLXBUULMUVQUAPULFHHQHHZXCKFMTKLXVTQXKVVGUHPHXLVXLGFTKCHWTCKVEXAHGLTKLFFXWUZAAHCUHHUPKWLZULLKLHFFLLKGUXVTGVAHKFBAVFRAHFXFQCVHCUGLKBHPLHXGXALLXAGLJUKGELXCXHFVCUGVFVULFCOVUGXHHHJLLCATTGKHLPVPCHFLXWTFHWVTLVXXCCGZVUEPZAFUXCLNLUJXFLVHFHLXHGLHFUUOFXZFAKHXUXLFLDVHKDKEUULLEVXPCHTKEXHGEPLHVXZUFBHCHFFTFFFUEPQHGKJXXXLATAOHCTLJLGBLDJHQHHUXVTXHUDXAOHPKHATJGLOFLFNLOPMUKPFVUGAKLHMLHVGXTFLGHKGOCKAGJGLVEHHFHPLVVAHFAUHHGGGXHFKCHPULKVHTHTAKFPPFPEHCHTVFCXBXTXTVTHVLHZHZHPFLJKKXBHATXLXAHHXZKUGOHGLVKAHTZCVHVZVGHFGUFLXAXHPHUHXCCLVTVHTHXGTVAOHORLCGOFFLCEVHGHJULLKGTMHULQHZOVPPGNTMGBXFHGBPLTUHOUALCUHHQGTLOAAXFLFPLURVKVHFTGXXVEXUHTTHLXJVLNPXLOHWLVQLXGUTXLXLLKJFJOKTVHKWZJGUTFTXPVTHLFOJHCGAHLMKGXLVAVFVFDFUHHJCMLFCKXVVHVCVLFLXLXGVHCVFTGHLHHUXKTFFFHHHLTVTVJELDTFLXAXFUGGJPFHHHXHLULNLLKJUVLXLZLALFGHGUULOCBNTQMVTKDTLTTTGVLHPXVUTFGUUGNGAVGXPXUGZKXKXLAJXJHGUFAXLOTHAHKPGGTVXLBTTPKVUKLVLHKOPLAHJLAUCLTFDFOUFFZVGAHHULTGDCPGHGFAVPXXKVTXXXAGJXMLTXLLHXHJKVHFLHDJLHHCFQHVLPXVLTHNVLHUVTCPHPLHVKFKVTHEHAHKHXJXJBTHHGVDVXVCJVOLFLVLVVOIXUZJHLTPBFJUTHHUXGTLVHHOFHTHUVTKVAVHTAVVTKCVTKCQHLVZHUHGPZZXAKCOPOKKVNLTVLWGXHHLUXLTHHXUCHTHHPLVJCPGTPLNPKHTOGUXLHTAFJHGHOHTVXKXFTUWLPVHKGHZPFCKXUXLUVXXGLHHLVGHGFUKPOXOLLUBXVFLHKLKFGXURPHXTLHKLLLFFLLHXPHAAXAGLOVQFABHKPLLVOXOJXHLLHGHTZKLHAHXHKUGTGUTHHFFKXLTBTROLFALHLKGTGOCMZRLUFFLXTLZPLZXZVLCLFXHGULKVXUUXFDHGTLTFLGUFUAVZVBUOBLLLHGKUHHVTVALKLLJCBAHJFBGLLKXTLZLUCLLCVPKXZAHOXLTFGLGAXKHGHKCGMPHZKHHRDXKXNVXLVAHGXVVVGEAVJTUUHAVOVFFAUURVCGTFKLPNVHFLJXLGOLLDUFLUPKLGHZAVMPPCXTXTFOTOXOULKPVLPHOVHLDULIJJHFHCFTFXXHFVHHGLFTHCHOXXUGVTUGLGCFPPACCTTZXOCAFVLCETZHGAVGFLHTJTUIGXQHVCHCLHFXJGUXKXHDTUHULLHKHFHHHDFHXVPVHLTKHKPFBFATZXCKXGGGCHKVEZVFHALCNATHGUJHNHCKHJLXJXAXFCXKLTHLPKXGKFUCHVTVHBTBHGHRLXZVHGLMUXBUNVHGLZFXTVHTHKACHHGLVFFLLBCUXLVKOHXCVHLMQXOXWLKGHZHVLQVPVPLLULPVHWAHWTGXOUGXZHVXTXZVXAFBLHLTACLXVFAAPHGUZAKKLHGGXAVTVUHKLXCKPLLWTXVXKTZTLLCQKKFHGPTXXLFFHHHVGXZRNJFXLVOHHCWLLKEGUZRGLKOXGZLXHLKFUVTPALLVLLLXKJGHVGFXLKRHFFTXTLLHXCVTLGXUHTXIOTLAUXTHJHVGXTWXUUAPLUGXFUUZHKCHWGABHUMLPLAGCTLLVKLVTGFVLXAXXHHATGJAHZCLCHLXFACPKBUXFAFBGLXLULCXXAHXHXUKGHXGKGFZPHALRZHHCOLLXFLVFGHPOUZVHGEKHXOKGCUTHGCXGUXBXFPTVPTHOXLLTVPTVLTMKVAFFTHLLZXLKJVXHHAUCPBGXFKGKZFTHWLWFUAVUFZLHVVDPLHHTVHKTVUFZUPUXXFTLHVTXTZVZFUGXGJLXGXVPXCPXPVHZGGALBUKLLFXKPVKGAHZLZLTGOLWGFJEGBUGHKZGOLEXJHUHUHAHKFFLETPUVGKEHLXZZZLVZXTAXAKZLUVXUFXZMHHVOGLFPUXLXLLGHXOGPCGHGLXMFCFHXKTVLGVTFTJHOTLXXRVXJUFTTHKFFXPCFKFZTGFHTXHHHVHEKTXLGKHLBTHAKZUXWXVHFHXVLLUXHLUGVGFLULQXLLLHKVTKGUHLFBUXXTFTKVVLCXCFFHXTLDHVGLEFXVVUVHFGLOPXLXUADNLCHQHXXZVUHLFAGHXFPPKHVGGKFPHTTOCJTGOKLHLUHEFUCPQHOVUVPVPTFLVTVLLTHUGXGAHUXHEHHAKNVXUVFHJXLKKVDFXAULLEZLUPPHFLCFELCAKOCTUWHTKXUVPKLFCAXFVQHLRHAKFUBTFGUZLXLLGLLHJHMAGTEPKALKVVHVLHHGHUDFXTFTHHHUUTHLCHKHUVGLEVLPHTVTXHKLUCAVHLLUVVGHTVUHUVTULNLKOPAAHTHXXLFPLLFFKUCAHFLNCTHBUHVXFLVAHHPWHOULLKCTCGHUTHFULKPKXUHAXHBXKXUOHXCPHXGBJHGTXXKFKGUDBKGHNLTVFPALHOHLOKHKJHKUHCXLPHVXFXTFTVCZFLXVDCLVTAFCFVJAVJDHKXVLFLUUHOTPALRHKGOXVGPXLFPXTUCLULUFKVAFHFKPAHQKZVUXLTKFGOQXXAHABLLLUHVKXXZXVVPXMXTNFXGXTPHGHLTHHLHVXTVGLVXCLHMPLHLLJCLVPHHLFHUABLOPGHLVLAVCUPUGVOTVFPVXVTHFWZTFLTKXTFTXZVOJKHNHFVLKTHXXLTJGAKHLPCLFLCHFKVLLJLKLLJUWVTGGXFLXXVTLFPXTHHCPHAEGLAHVHFHTFXTACUTCXUHLZOHMFVFTULTVJGFZHHRAZXTHTVVHVTHVAVTHHVGPLHKLTLKXXUNXHHUHXNFTXJKHFGHXHTVFFUVTAXGXHOXHCCHXPHKHTKHTZGHACLVFAZBTPGHHUALXVHXUTVGUXFVHDXFLKTOKPLHUXHKHMULPXLWGTXULECHKFLVTHAHUDHGHHFGXHJKUHHKKHGVHHXTPHXVHJOXCLUFHXNVKPGLCVPKFAXVWVTXHHVJXCAXHXFHKKLUHGXVHHUJLUJXGOUEHVLKLHVXHHLPFVZXWLTVHUPXLGXGHVHHOTVXZXOZFVFPLCPLUJPFLAPHTPCHHHGFPHZTVTXXFVHXGLPKMGFCLGXHAVVHUVPUTHVXTGLVKHHHCTVCVXTGWCHUXXFHFUTHWHHDTXHZCFXGXWLCIFUFHUCHPFOLUXGKVTHQLPHHHLXGTGFLLLCUHWXFVGKHUVPGFUJLKPCPLHAHURGOLFVPHGLJKUTGUJMPMWHAXZJVHTHJOPFHFKWHLXXVTVLXUFUGUVALFMPHTJXPFVEKHFJALLVIPUTLTGBULHUHGLFLPHHLLPHHLWZVUXHHXUTKHFLZFPPLHUHFHGHFOHHCHAJGHOCFPFTHAGLLHHBLZHEHCLLUCHCKLZKHFLJMOCLHXGPGLVOLTVVTFFOXKFPLPALOGAVXTFHLWVTCKHTOALKGGTGLGFPHMXEHQGVXGKOFHGVHJFGOGLKVVPREHBGULFKTCLXHXVULZUHPHXHFLHZXLPAKHFDHHEBLTGFKAGLCUHTFGLVFWVLBUJCHLHXXTKGFHXHLWKFKFGLPPAHELPLTUFKOFHNLKLXXVTKHGFHHCKPCVAOHZHXXHLGLJVCTTFUVALFAHLZFOKJLKLVVLAEALLLXXGGVNUGLLKFQOUPHXUKQCFHHWKUGPGVKGGUXHXHLXHXLXVPKNLXBLKXAJEXAGLPLZKWTVTLXCKGALTTXHVTUKGVLEHHPXHXKGLFBUFJABTVXQGVTALAMHOLOKFVOAMZHALKCLVLGLVGPVGTVNUFFATVOCFFUHFOXTBLGHGXVHUOPUWLTAAHVPHFLHCXZVFQTLUCLXXXETOKFAMKXGHXHCATGGHTLXBXGFHOVLTHHLZGGVFXGCCUJHAFLHZHGXCCKVHLDXAHGFKGHMHFUBUHAFTXHVVKXEFFUHGCVGTLHAVVNLXPHFFGPVFHVPRVALTZFPLFBXUJHKJTFLTVQHEVGFHKZFUTXLDJXBXCLNVLGAXOKGXHLCHZV'"
            ],
            "application/vnd.google.colaboratory.intrinsic+json": {
              "type": "string"
            }
          },
          "metadata": {},
          "execution_count": 15
        }
      ]
    },
    {
      "cell_type": "code",
      "source": [
        "monogramas_cifrado_1 = frec_ngramas(texto_cifrado_1, 1)\n",
        "monogramas_cifrado_1.head(10)"
      ],
      "metadata": {
        "colab": {
          "base_uri": "https://localhost:8080/",
          "height": 363
        },
        "id": "-TDS2HAx96bG",
        "outputId": "7608e8e0-e12e-4ce0-9ad8-59211b0f055c"
      },
      "execution_count": 16,
      "outputs": [
        {
          "output_type": "execute_result",
          "data": {
            "text/plain": [
              "  ngramas  frecuencia\n",
              "0       H         638\n",
              "1       L         568\n",
              "2       X         422\n",
              "3       V         377\n",
              "4       F         338\n",
              "5       G         315\n",
              "6       T         307\n",
              "7       U         281\n",
              "8       K         261\n",
              "9       A         190"
            ],
            "text/html": [
              "\n",
              "  <div id=\"df-0d022b11-ecce-43a0-9472-dbe6a0eabe8d\" class=\"colab-df-container\">\n",
              "    <div>\n",
              "<style scoped>\n",
              "    .dataframe tbody tr th:only-of-type {\n",
              "        vertical-align: middle;\n",
              "    }\n",
              "\n",
              "    .dataframe tbody tr th {\n",
              "        vertical-align: top;\n",
              "    }\n",
              "\n",
              "    .dataframe thead th {\n",
              "        text-align: right;\n",
              "    }\n",
              "</style>\n",
              "<table border=\"1\" class=\"dataframe\">\n",
              "  <thead>\n",
              "    <tr style=\"text-align: right;\">\n",
              "      <th></th>\n",
              "      <th>ngramas</th>\n",
              "      <th>frecuencia</th>\n",
              "    </tr>\n",
              "  </thead>\n",
              "  <tbody>\n",
              "    <tr>\n",
              "      <th>0</th>\n",
              "      <td>H</td>\n",
              "      <td>638</td>\n",
              "    </tr>\n",
              "    <tr>\n",
              "      <th>1</th>\n",
              "      <td>L</td>\n",
              "      <td>568</td>\n",
              "    </tr>\n",
              "    <tr>\n",
              "      <th>2</th>\n",
              "      <td>X</td>\n",
              "      <td>422</td>\n",
              "    </tr>\n",
              "    <tr>\n",
              "      <th>3</th>\n",
              "      <td>V</td>\n",
              "      <td>377</td>\n",
              "    </tr>\n",
              "    <tr>\n",
              "      <th>4</th>\n",
              "      <td>F</td>\n",
              "      <td>338</td>\n",
              "    </tr>\n",
              "    <tr>\n",
              "      <th>5</th>\n",
              "      <td>G</td>\n",
              "      <td>315</td>\n",
              "    </tr>\n",
              "    <tr>\n",
              "      <th>6</th>\n",
              "      <td>T</td>\n",
              "      <td>307</td>\n",
              "    </tr>\n",
              "    <tr>\n",
              "      <th>7</th>\n",
              "      <td>U</td>\n",
              "      <td>281</td>\n",
              "    </tr>\n",
              "    <tr>\n",
              "      <th>8</th>\n",
              "      <td>K</td>\n",
              "      <td>261</td>\n",
              "    </tr>\n",
              "    <tr>\n",
              "      <th>9</th>\n",
              "      <td>A</td>\n",
              "      <td>190</td>\n",
              "    </tr>\n",
              "  </tbody>\n",
              "</table>\n",
              "</div>\n",
              "    <div class=\"colab-df-buttons\">\n",
              "\n",
              "  <div class=\"colab-df-container\">\n",
              "    <button class=\"colab-df-convert\" onclick=\"convertToInteractive('df-0d022b11-ecce-43a0-9472-dbe6a0eabe8d')\"\n",
              "            title=\"Convert this dataframe to an interactive table.\"\n",
              "            style=\"display:none;\">\n",
              "\n",
              "  <svg xmlns=\"http://www.w3.org/2000/svg\" height=\"24px\" viewBox=\"0 -960 960 960\">\n",
              "    <path d=\"M120-120v-720h720v720H120Zm60-500h600v-160H180v160Zm220 220h160v-160H400v160Zm0 220h160v-160H400v160ZM180-400h160v-160H180v160Zm440 0h160v-160H620v160ZM180-180h160v-160H180v160Zm440 0h160v-160H620v160Z\"/>\n",
              "  </svg>\n",
              "    </button>\n",
              "\n",
              "  <style>\n",
              "    .colab-df-container {\n",
              "      display:flex;\n",
              "      gap: 12px;\n",
              "    }\n",
              "\n",
              "    .colab-df-convert {\n",
              "      background-color: #E8F0FE;\n",
              "      border: none;\n",
              "      border-radius: 50%;\n",
              "      cursor: pointer;\n",
              "      display: none;\n",
              "      fill: #1967D2;\n",
              "      height: 32px;\n",
              "      padding: 0 0 0 0;\n",
              "      width: 32px;\n",
              "    }\n",
              "\n",
              "    .colab-df-convert:hover {\n",
              "      background-color: #E2EBFA;\n",
              "      box-shadow: 0px 1px 2px rgba(60, 64, 67, 0.3), 0px 1px 3px 1px rgba(60, 64, 67, 0.15);\n",
              "      fill: #174EA6;\n",
              "    }\n",
              "\n",
              "    .colab-df-buttons div {\n",
              "      margin-bottom: 4px;\n",
              "    }\n",
              "\n",
              "    [theme=dark] .colab-df-convert {\n",
              "      background-color: #3B4455;\n",
              "      fill: #D2E3FC;\n",
              "    }\n",
              "\n",
              "    [theme=dark] .colab-df-convert:hover {\n",
              "      background-color: #434B5C;\n",
              "      box-shadow: 0px 1px 3px 1px rgba(0, 0, 0, 0.15);\n",
              "      filter: drop-shadow(0px 1px 2px rgba(0, 0, 0, 0.3));\n",
              "      fill: #FFFFFF;\n",
              "    }\n",
              "  </style>\n",
              "\n",
              "    <script>\n",
              "      const buttonEl =\n",
              "        document.querySelector('#df-0d022b11-ecce-43a0-9472-dbe6a0eabe8d button.colab-df-convert');\n",
              "      buttonEl.style.display =\n",
              "        google.colab.kernel.accessAllowed ? 'block' : 'none';\n",
              "\n",
              "      async function convertToInteractive(key) {\n",
              "        const element = document.querySelector('#df-0d022b11-ecce-43a0-9472-dbe6a0eabe8d');\n",
              "        const dataTable =\n",
              "          await google.colab.kernel.invokeFunction('convertToInteractive',\n",
              "                                                    [key], {});\n",
              "        if (!dataTable) return;\n",
              "\n",
              "        const docLinkHtml = 'Like what you see? Visit the ' +\n",
              "          '<a target=\"_blank\" href=https://colab.research.google.com/notebooks/data_table.ipynb>data table notebook</a>'\n",
              "          + ' to learn more about interactive tables.';\n",
              "        element.innerHTML = '';\n",
              "        dataTable['output_type'] = 'display_data';\n",
              "        await google.colab.output.renderOutput(dataTable, element);\n",
              "        const docLink = document.createElement('div');\n",
              "        docLink.innerHTML = docLinkHtml;\n",
              "        element.appendChild(docLink);\n",
              "      }\n",
              "    </script>\n",
              "  </div>\n",
              "\n",
              "\n",
              "    <div id=\"df-b5dd9292-671c-43e7-99a3-61e5bacc6f42\">\n",
              "      <button class=\"colab-df-quickchart\" onclick=\"quickchart('df-b5dd9292-671c-43e7-99a3-61e5bacc6f42')\"\n",
              "                title=\"Suggest charts\"\n",
              "                style=\"display:none;\">\n",
              "\n",
              "<svg xmlns=\"http://www.w3.org/2000/svg\" height=\"24px\"viewBox=\"0 0 24 24\"\n",
              "     width=\"24px\">\n",
              "    <g>\n",
              "        <path d=\"M19 3H5c-1.1 0-2 .9-2 2v14c0 1.1.9 2 2 2h14c1.1 0 2-.9 2-2V5c0-1.1-.9-2-2-2zM9 17H7v-7h2v7zm4 0h-2V7h2v10zm4 0h-2v-4h2v4z\"/>\n",
              "    </g>\n",
              "</svg>\n",
              "      </button>\n",
              "\n",
              "<style>\n",
              "  .colab-df-quickchart {\n",
              "      --bg-color: #E8F0FE;\n",
              "      --fill-color: #1967D2;\n",
              "      --hover-bg-color: #E2EBFA;\n",
              "      --hover-fill-color: #174EA6;\n",
              "      --disabled-fill-color: #AAA;\n",
              "      --disabled-bg-color: #DDD;\n",
              "  }\n",
              "\n",
              "  [theme=dark] .colab-df-quickchart {\n",
              "      --bg-color: #3B4455;\n",
              "      --fill-color: #D2E3FC;\n",
              "      --hover-bg-color: #434B5C;\n",
              "      --hover-fill-color: #FFFFFF;\n",
              "      --disabled-bg-color: #3B4455;\n",
              "      --disabled-fill-color: #666;\n",
              "  }\n",
              "\n",
              "  .colab-df-quickchart {\n",
              "    background-color: var(--bg-color);\n",
              "    border: none;\n",
              "    border-radius: 50%;\n",
              "    cursor: pointer;\n",
              "    display: none;\n",
              "    fill: var(--fill-color);\n",
              "    height: 32px;\n",
              "    padding: 0;\n",
              "    width: 32px;\n",
              "  }\n",
              "\n",
              "  .colab-df-quickchart:hover {\n",
              "    background-color: var(--hover-bg-color);\n",
              "    box-shadow: 0 1px 2px rgba(60, 64, 67, 0.3), 0 1px 3px 1px rgba(60, 64, 67, 0.15);\n",
              "    fill: var(--button-hover-fill-color);\n",
              "  }\n",
              "\n",
              "  .colab-df-quickchart-complete:disabled,\n",
              "  .colab-df-quickchart-complete:disabled:hover {\n",
              "    background-color: var(--disabled-bg-color);\n",
              "    fill: var(--disabled-fill-color);\n",
              "    box-shadow: none;\n",
              "  }\n",
              "\n",
              "  .colab-df-spinner {\n",
              "    border: 2px solid var(--fill-color);\n",
              "    border-color: transparent;\n",
              "    border-bottom-color: var(--fill-color);\n",
              "    animation:\n",
              "      spin 1s steps(1) infinite;\n",
              "  }\n",
              "\n",
              "  @keyframes spin {\n",
              "    0% {\n",
              "      border-color: transparent;\n",
              "      border-bottom-color: var(--fill-color);\n",
              "      border-left-color: var(--fill-color);\n",
              "    }\n",
              "    20% {\n",
              "      border-color: transparent;\n",
              "      border-left-color: var(--fill-color);\n",
              "      border-top-color: var(--fill-color);\n",
              "    }\n",
              "    30% {\n",
              "      border-color: transparent;\n",
              "      border-left-color: var(--fill-color);\n",
              "      border-top-color: var(--fill-color);\n",
              "      border-right-color: var(--fill-color);\n",
              "    }\n",
              "    40% {\n",
              "      border-color: transparent;\n",
              "      border-right-color: var(--fill-color);\n",
              "      border-top-color: var(--fill-color);\n",
              "    }\n",
              "    60% {\n",
              "      border-color: transparent;\n",
              "      border-right-color: var(--fill-color);\n",
              "    }\n",
              "    80% {\n",
              "      border-color: transparent;\n",
              "      border-right-color: var(--fill-color);\n",
              "      border-bottom-color: var(--fill-color);\n",
              "    }\n",
              "    90% {\n",
              "      border-color: transparent;\n",
              "      border-bottom-color: var(--fill-color);\n",
              "    }\n",
              "  }\n",
              "</style>\n",
              "\n",
              "      <script>\n",
              "        async function quickchart(key) {\n",
              "          const quickchartButtonEl =\n",
              "            document.querySelector('#' + key + ' button');\n",
              "          quickchartButtonEl.disabled = true;  // To prevent multiple clicks.\n",
              "          quickchartButtonEl.classList.add('colab-df-spinner');\n",
              "          try {\n",
              "            const charts = await google.colab.kernel.invokeFunction(\n",
              "                'suggestCharts', [key], {});\n",
              "          } catch (error) {\n",
              "            console.error('Error during call to suggestCharts:', error);\n",
              "          }\n",
              "          quickchartButtonEl.classList.remove('colab-df-spinner');\n",
              "          quickchartButtonEl.classList.add('colab-df-quickchart-complete');\n",
              "        }\n",
              "        (() => {\n",
              "          let quickchartButtonEl =\n",
              "            document.querySelector('#df-b5dd9292-671c-43e7-99a3-61e5bacc6f42 button');\n",
              "          quickchartButtonEl.style.display =\n",
              "            google.colab.kernel.accessAllowed ? 'block' : 'none';\n",
              "        })();\n",
              "      </script>\n",
              "    </div>\n",
              "\n",
              "    </div>\n",
              "  </div>\n"
            ],
            "application/vnd.google.colaboratory.intrinsic+json": {
              "type": "dataframe",
              "variable_name": "monogramas_cifrado_1",
              "summary": "{\n  \"name\": \"monogramas_cifrado_1\",\n  \"rows\": 24,\n  \"fields\": [\n    {\n      \"column\": \"ngramas\",\n      \"properties\": {\n        \"dtype\": \"string\",\n        \"num_unique_values\": 24,\n        \"samples\": [\n          \"K\",\n          \"E\",\n          \"H\"\n        ],\n        \"semantic_type\": \"\",\n        \"description\": \"\"\n      }\n    },\n    {\n      \"column\": \"frecuencia\",\n      \"properties\": {\n        \"dtype\": \"number\",\n        \"std\": 178,\n        \"min\": 7,\n        \"max\": 638,\n        \"num_unique_values\": 23,\n        \"samples\": [\n          58,\n          190,\n          638\n        ],\n        \"semantic_type\": \"\",\n        \"description\": \"\"\n      }\n    }\n  ]\n}"
            }
          },
          "metadata": {},
          "execution_count": 16
        }
      ]
    },
    {
      "cell_type": "code",
      "source": [
        "texto_plano_1 = \"\"\n",
        "\n",
        "for i in range(0, len(texto_plano), 4):\n",
        "    texto_plano_1 += texto_plano[i]\n",
        "\n",
        "texto_plano_1"
      ],
      "metadata": {
        "colab": {
          "base_uri": "https://localhost:8080/",
          "height": 122
        },
        "id": "7r49J-0FNezU",
        "outputId": "17e696ab-968b-4445-991d-9d0e41eb9bb9"
      },
      "execution_count": 17,
      "outputs": [
        {
          "output_type": "execute_result",
          "data": {
            "text/plain": [
              "'AdraelxdnraartrneuCríqemerdEmyiaouosbdtnortodedteenupoaneaeynstenuravieroaedeeeryrsnarbiberpeetsljssaaovacastalaaasoiobvstaaiaufotbnhpidnsrelerlrleidsrltaetraoePodnumgiealscaqssvanerrenaliaíuebindmseeenudlontremesgonenaabtedsorrdaasraeaaolpladedFiilnaasceseolusuobobudsdaldEmeeestamssralayaieeesueiaedoleeesereereielmlidsipelocpcuebnplcdneuaíeoqlleylshluclenaaHaamotdnyiDeosíhodssrlacaoesoernidtagitdsvouareidennoglmuuatlaalcdgemleedeanneedRlóSirsuadnqusnzuanonhtsatlredqaceaoroueeourebldrveotoanstlrsnslentpslroaaabeetuiirdaecsctaneóginagsiesoottrMslvcmunlotejelbonesanaeoareanllpnomnudaolOeNefsadfdvlleeVsoctaidvoarvceasomlnqatanninnnLvchardboooeuiupatieberqefbaHaalosíoalfoupacdauibrepnenjepcyldCnslrudeayeasroiNeradrptdurbresvaanácessuanulaarrroandtacledsaiaiudnccncvataisntoqoíoisiaseamamacnebddoqauioeouaaomdlrparesduaimtsasmsranrlneouoacalaottesisaiaórisupapzetrpnnetVsarableedriyalehampsccrjiyrqonarqceilapluetlaahriepuuonencelzsdsaniroosvolaiiaéobsejcoepagesheorlíoeoeedbnbpdisadgmbrliniocsiaenpbatruaeydroesusñsnfnlaabtyentdossastseneoeorsatsniraeaalodinnna\\n'"
            ],
            "application/vnd.google.colaboratory.intrinsic+json": {
              "type": "string"
            }
          },
          "metadata": {},
          "execution_count": 17
        }
      ]
    },
    {
      "cell_type": "markdown",
      "source": [
        "# Segunda Palabra"
      ],
      "metadata": {
        "id": "DwN_sL4OViXr"
      }
    },
    {
      "cell_type": "code",
      "source": [
        "texto_cifrado_2 = \"\"\n",
        "\n",
        "for i in range(1, len(texto_cifrado), lkeyword):\n",
        "  texto_cifrado_2 += texto_cifrado[i]\n",
        "\n",
        "texto_cifrado_2"
      ],
      "metadata": {
        "colab": {
          "base_uri": "https://localhost:8080/",
          "height": 122
        },
        "id": "EXyrrCGYNKgc",
        "outputId": "44c2b419-d3bc-4b56-af0d-1d4a4bfd0a76"
      },
      "execution_count": 18,
      "outputs": [
        {
          "output_type": "execute_result",
          "data": {
            "text/plain": [
              "'ULKPKVCTLLRLTTLCEVXLHAUHUGLFHKFCLLBLTXTKGXLGLKLXVTHFHVGLPVNGXGXUCHHPLKFGVGVTGFQCPHUPKHHXUUGXKCHZTAMZFNVTULAKGBUVFVXVFVALCLKLZHFHVTHZXGLKHHZGLDHHCCUAHXHHLUVHTZGVLUXCTHUHPVHTHGABLTFXCTTUPKZVUHVVHXHXOCPGVTULHVEXHVXJMAVKHCJOLAFLTOLHLJGJTVEUJLPXVULKLHPLLCVACQFLKGHHALKGVTGXTHVULFHGVPCAVLVXLLWVLUZRHULLKFLPHFLCVCTVUFGTPZGLXTLLPFXVXVTHTLVHTHHXLXRUQHNLAHHUPLUAHLLUNLFTHOUAPTHXUKLUGLHTGLPLTLKXKGKMJFLCLLAUUHLXPLVOFPUCLGXCZXXHFTOLHCUHTHAFHHPCXVJGTFZLLAFLLLPFKLNAFLKMOFVFCAXLOLJTGLAFLLJFCLHUFKVXCHHTLXUGHDPPCLVHTPLHUEXAXHLKVGVTPUHFDXHHVXTMAXFTGJHVKUAKFFCLLGLXHCBLXHGUHVXVXBLHPCOLPLCNKJLPUVXHLRFOKLLGFLLMXWTVULLTHXGKVLCFXGULFHGVHTXFUUVHLCAVTVXVKTWKHXTHKTXTJOUVGXLXGTGFHVTALTHULFVXJCHGKLTKOTKTLCLUHPUXHVXXUHTPLLXTLJTLLGFPGFKLQHXLLKLPLAXFKVXGLHJJPJHPADUVVTHUVHHTFVCLAPHXGLKLZPVUHUUHAHTBLOWTXXZAHPLPQCFQKVAVTVHXVTLXJAUPPLWKOPFMXLHTXLLRHLLOUTGAKQHMXGCLHLGVLLVQVXVFGLGOXKLZFUHWTTXKLHMTUTHLPXLCKGCTXGGLWFPVHWHFHHTQAHHFQCAKOGJAXUXHKAXLDXUJUTJPFHLHLCIVXUXXMLEUHLHVHPLVXUXFZFVXVVHHHGHUHMHHPBTXVVJVHGLGXTXXGPRLXXULHEQFVHKLBUTTUJHPFOPLLPHUPPHHVPHMCFVGGVCULXGXXFEHOPAJKCFLBOHLPFTFLGFXZLLPCKFOGVFCHCAHKLFTJKVVBLTHAHTZLGKPKHUXKPLHTXCVFHGTGHHZXTOGTAALHAUTKLHPQHGGHGUVHKXUEULKXHHLPFXGHFQGHXFXVLPHFXJCXLZVUGPFHKLTLCUAVUAHGAXQHLZPVULHTVUCHGLTAGFHUPLHTULPCLFUHLHHLXHHJHGVGLZFLKLOVGFLAPLFHVVMZTFULTPKHKLLFLWGXHTTVHKXUJVLKFFTAZGQVXZFKTBLZCHHVKFLGKGVTAKCOHHXCBLAHCGVCGCIXCHTVHXAZFVTATHZVUBQFHFFAHULXHLBUTKLZTUGHGPTKLTTKLTHHUPLVWVWXXLVFXGHTHTLHHUWTUTHULCNFLHLJPFHAFVCKXUUGLXLEXDXLXGHHXXVVZPFKGHFPUVFKFTGCWKLCHTUHBPHHULXKXUVTPLVXLCWGKTUXKXTTXKHVVCAKALUULOGXCVTHCUEFGPHUFAKXERKFTKFGXFPGHXHHLAFTHVGAAFXUGOKVHGAFXHWOFVVKTHXZCZVUCKHLFHZABHLFTGUUCLLRXTAMOHGXKXUUHLLHGAPTLCHUPHOTHKLZGHTFUXVLKFFPVHXHHUOLKAHHATFFUXXZKVTHFTFHFHAXALOLTAHKPHVWVTVHTLCHKGXVHLCTVFLVLPVLVHVVVTLLOCFXTQOKGVXUHHURHZMXCTCHTLPKHXHXVLPAHCULLPHPALVWHUXLEUHZGRVGTVZHTXVHTHVLFALMGTGTVFQLOGXAUHXKXLAVCVXQVZHTUXTUGUTHGWPLKVLTVUHUEHGXPXKPLXXGJTUXLZXTLTTHQAVTALXXHXTQACGLPTHUZPGHHOHFLVDXVHPVKZALCMLFKLFUGAUZPGMLVCUUPCVGXKVFFHVLXTALFOTULXGHXXGFLETXHCEHUHXLZBTHUEHZXHVGUJTGFGCGPLHKNFXHWKLXHLUKWTFAZAEXUFGGLOGHRLLGAUHHFXUHPEPHZHFGQXHLTFPTLUPAHXVFLGXOETKQKQHUXVUFLKFHMHKHOTOHNVHUHVGHMMUHTKGHVFOFKVFVOOFLOAUUUEEALVLLHTCBLHHVLLOKLWKMCXVXOGCVXTTVFGKGGGLFOLLCHAHLFPXQLFFFJPKKKHFJABAHLPFBGJULLLGTLUJAKLGXLFHHGLZGLCHCHHFHUPGVLFLHHFWTHFVHBUHCLGPZFXMHTLUGKWVFUOTXHFHGUKUKHFOHGLPXJHFHXGXXCXFLAUXCUAKLBUHFJHLKQGUXUOHUALGHLWKKJLVHHFGHGZGBGKZZXHAAVGVGXAHVGFHZTOMVKGFMXLOLKHLXXHXVFRXXGUTXDUVKFKHLJHXWXCFXXHLVVLAXHZFLHFBXPAKKAGUXKJTVIGXHGVJZCULEVVXHKHUHOVLHHKPGPHXHALVCXLHHLWVGFTCHLPHUHZGOXTTVVFOTVLXQHUAUXTVUKGZFPLVVLCJMOCPHXQUHFKAVLXGAXCTLCUUAXTFFVGLXTLHFPHGHZHHUUTHVVHTAHKFXTXAFLBAJUPHRLKLVCFXHHLLXLLFKHTXHUCLXPHUTXLLJTMAKFHUJHPHXVKXOZVVHVLGUTHAXTOCUGVPGUEGLWTPXXVZUTUGXVVPXZVGECFFPLCOPTHWLCTPXCULKKJMBFXLRJUZLEFAWJLLHHMGGHVCVGGCVHCUUHHLHQVAZXUVGKFHKGLXHEUCAPFZHACLXAPXTXKVFVLVUGTHUTCGXKAKTMHPHTUOGHFGHUGJHLVKHCMUFPFKUJBTXLFXTHHEXOLHUHZFHHLAKGHFLCKGXHZXDLOTHQVPFPUUGVLVXAVXZVHZVLOVOLLHKHXCVGVVLXPLHVTUXULXUHHGKVGLHXFGFLLLHHAPULGHXAXGKTTVXBHJFJVTLCUALTHUHOFHEXLGFAJVLXFHXTFUHMLGXUGBXJPLHVKCLVUOHZVUUHJXFLKXVLVCXKUKLKFLCXHFARFCHXKTUVJUFHPKXDXUGHTFZKHLVLALXIVHLHWXFJHHHGPLAXJDVHUOUDKXHKXGKVLXFLVVZVUCHGLHLGLUPUUAGLGHTZGHLKFZAHVTHLKLHLHCUAHXPTPUDCHFLVXKFHKJLTPLAVGVVAJLVDFXEJQHXCPPLGLUHPFCHMHHUULTKLKCVKVTOGGVXFGUFHULVLKAKULTOKGGFHNHPTPFCGXHXFGAHHCZHFPXVLTHUFLVNAFFUHPTKVVTUAKAKOPRXDHKLGTUXWVUKKFTKZXCHVCPGCGOGUFUGTXHLLKNUCZXFABHTLZGXUHCHHLTHLGHALTCFCXALXLPJDHLOPPHGLOHHHVAVBLGLJUEGLKHULTQGTXUKCHUTLUVPHFTHUGLXLHHPLLNVOZCULTHGHWGGLOLVDGXOGHECUGFMLXFLVXUVHXZZHUEHJDHXHHDTVFHLTZVUHAOFUGKCLLKOMCHXVGLVHFTHKHAHKVXVAXOKFTLGFHVGKHLHPHLPFVLPHLLWGLUNHKLPXHUXHGKLTPLCXXALXVVUHRGWLKJXLHLXGXKPLFZGLCLHXVGUCELULXKAKUTHWHHKAHJLCFHVLFOHXKACWKTFCXHCUGLHVLLJPFHHFFLGHHJXUCPKVXOTAXOXHLXCXVMAPHZVGCAVGHMKVCFXXNWVFOPUGLHFXNVPHOXVPFTUPCPJGVTHHHUGUVZWUXOFFWKFAVOUHLVHVHXAXHTVHAGHLXXOPQQHXLJKGLGXVAPKLWBXHPLHFHGUXHXUGLJGXZWULTXVTOLFHVHTZRPLJPTQCPLFLGLZOPUCZVUAKFTLFGTLLVZGGGHCXHCKPXPXWXLXLLLHVPTHXEOKUFVXXHBGVHUGGLKLHXJLUAXTHLPHTGXZJFKHLHXFHCQJCFXHHFHLHCTZALHBTHCPLVGHTHFPLGCXPGLHBUFKHHHCXFKAKHKFHPXAUHXCTLKZHLOHZCUFHAHFVPUXUXDXJHGVQFGXXHCLFJVKXHXCTFLCATFFUJDVXUHXFHAVVHAKXGHXKXGLZRVFJAHOGLVTKVHLUGLFHXCTVHXHXUOKLAXKTGCHAOPPCLFLCXUTTGXHLAFZCGXTMFLHJKXLZLTHPTUXPGVLLLKXLDMCLHXPTTFTVHAXWLOHHHLUATTGHHFHLFGVHHUHHOTUCUDFKLLVTLXCTACCTAKKHWGFZRLKMHXUFLDTLUAXHGLUOPPULKLVPJNGLCHULMXTLPTOXQLTNXXXEXKLVVGAVLLLKJEAXQLOXLUAFZKGGHVHALXFULFGVVGVUHKALLGXGTTVFLGGFUZFPTLHHJAWLCTLHXJZJLAXTJZGLVLXXTLHUHVFGHNVJGLFLAXXPPAGLVLHTHLVUHVHLLXKPVJXLOXVFLVAXVLLABBHHZHEKGXTVHAHBLKAHHGXLLGHEVLVHPGLHTGFHJKLJETBAPHGKXXMXJEXCHLHPXTAUXHVHVUPALTFLFLGXHLLXGFMOGLHJHEVGCXKUAFGVGTFZBLGGHVGBHFCLCLXFLLLBJUHADHLGXEVCUVUJXBLTGTLXHUEVVFFXATPHHLHUFXKHVLHXHZVVOHAXLFCLKPLAHVLUXHVLHKHHLFLOXLZGTKCVLXXXVZXXKLGPHXTFVABLTUXTKLFXZHVLCHPPLOKLPLPLHUAVGGHHGVFEHLUVMFLKX'"
            ],
            "application/vnd.google.colaboratory.intrinsic+json": {
              "type": "string"
            }
          },
          "metadata": {},
          "execution_count": 18
        }
      ]
    },
    {
      "cell_type": "code",
      "source": [
        "monogramas_cifrado_2 = frec_ngramas(texto_cifrado_2, 1)\n",
        "monogramas_cifrado_2.head(10)"
      ],
      "metadata": {
        "colab": {
          "base_uri": "https://localhost:8080/",
          "height": 363
        },
        "id": "e7hdDSs7rVdH",
        "outputId": "8d732cec-c955-48a1-cb2f-729cc3500b6c"
      },
      "execution_count": 19,
      "outputs": [
        {
          "output_type": "execute_result",
          "data": {
            "text/plain": [
              "  ngramas  frecuencia\n",
              "0       H         645\n",
              "1       L         596\n",
              "2       X         435\n",
              "3       V         368\n",
              "4       G         321\n",
              "5       U         309\n",
              "6       F         309\n",
              "7       T         297\n",
              "8       K         248\n",
              "9       P         203"
            ],
            "text/html": [
              "\n",
              "  <div id=\"df-e23149b6-43ac-4d31-8198-e79266a89e08\" class=\"colab-df-container\">\n",
              "    <div>\n",
              "<style scoped>\n",
              "    .dataframe tbody tr th:only-of-type {\n",
              "        vertical-align: middle;\n",
              "    }\n",
              "\n",
              "    .dataframe tbody tr th {\n",
              "        vertical-align: top;\n",
              "    }\n",
              "\n",
              "    .dataframe thead th {\n",
              "        text-align: right;\n",
              "    }\n",
              "</style>\n",
              "<table border=\"1\" class=\"dataframe\">\n",
              "  <thead>\n",
              "    <tr style=\"text-align: right;\">\n",
              "      <th></th>\n",
              "      <th>ngramas</th>\n",
              "      <th>frecuencia</th>\n",
              "    </tr>\n",
              "  </thead>\n",
              "  <tbody>\n",
              "    <tr>\n",
              "      <th>0</th>\n",
              "      <td>H</td>\n",
              "      <td>645</td>\n",
              "    </tr>\n",
              "    <tr>\n",
              "      <th>1</th>\n",
              "      <td>L</td>\n",
              "      <td>596</td>\n",
              "    </tr>\n",
              "    <tr>\n",
              "      <th>2</th>\n",
              "      <td>X</td>\n",
              "      <td>435</td>\n",
              "    </tr>\n",
              "    <tr>\n",
              "      <th>3</th>\n",
              "      <td>V</td>\n",
              "      <td>368</td>\n",
              "    </tr>\n",
              "    <tr>\n",
              "      <th>4</th>\n",
              "      <td>G</td>\n",
              "      <td>321</td>\n",
              "    </tr>\n",
              "    <tr>\n",
              "      <th>5</th>\n",
              "      <td>U</td>\n",
              "      <td>309</td>\n",
              "    </tr>\n",
              "    <tr>\n",
              "      <th>6</th>\n",
              "      <td>F</td>\n",
              "      <td>309</td>\n",
              "    </tr>\n",
              "    <tr>\n",
              "      <th>7</th>\n",
              "      <td>T</td>\n",
              "      <td>297</td>\n",
              "    </tr>\n",
              "    <tr>\n",
              "      <th>8</th>\n",
              "      <td>K</td>\n",
              "      <td>248</td>\n",
              "    </tr>\n",
              "    <tr>\n",
              "      <th>9</th>\n",
              "      <td>P</td>\n",
              "      <td>203</td>\n",
              "    </tr>\n",
              "  </tbody>\n",
              "</table>\n",
              "</div>\n",
              "    <div class=\"colab-df-buttons\">\n",
              "\n",
              "  <div class=\"colab-df-container\">\n",
              "    <button class=\"colab-df-convert\" onclick=\"convertToInteractive('df-e23149b6-43ac-4d31-8198-e79266a89e08')\"\n",
              "            title=\"Convert this dataframe to an interactive table.\"\n",
              "            style=\"display:none;\">\n",
              "\n",
              "  <svg xmlns=\"http://www.w3.org/2000/svg\" height=\"24px\" viewBox=\"0 -960 960 960\">\n",
              "    <path d=\"M120-120v-720h720v720H120Zm60-500h600v-160H180v160Zm220 220h160v-160H400v160Zm0 220h160v-160H400v160ZM180-400h160v-160H180v160Zm440 0h160v-160H620v160ZM180-180h160v-160H180v160Zm440 0h160v-160H620v160Z\"/>\n",
              "  </svg>\n",
              "    </button>\n",
              "\n",
              "  <style>\n",
              "    .colab-df-container {\n",
              "      display:flex;\n",
              "      gap: 12px;\n",
              "    }\n",
              "\n",
              "    .colab-df-convert {\n",
              "      background-color: #E8F0FE;\n",
              "      border: none;\n",
              "      border-radius: 50%;\n",
              "      cursor: pointer;\n",
              "      display: none;\n",
              "      fill: #1967D2;\n",
              "      height: 32px;\n",
              "      padding: 0 0 0 0;\n",
              "      width: 32px;\n",
              "    }\n",
              "\n",
              "    .colab-df-convert:hover {\n",
              "      background-color: #E2EBFA;\n",
              "      box-shadow: 0px 1px 2px rgba(60, 64, 67, 0.3), 0px 1px 3px 1px rgba(60, 64, 67, 0.15);\n",
              "      fill: #174EA6;\n",
              "    }\n",
              "\n",
              "    .colab-df-buttons div {\n",
              "      margin-bottom: 4px;\n",
              "    }\n",
              "\n",
              "    [theme=dark] .colab-df-convert {\n",
              "      background-color: #3B4455;\n",
              "      fill: #D2E3FC;\n",
              "    }\n",
              "\n",
              "    [theme=dark] .colab-df-convert:hover {\n",
              "      background-color: #434B5C;\n",
              "      box-shadow: 0px 1px 3px 1px rgba(0, 0, 0, 0.15);\n",
              "      filter: drop-shadow(0px 1px 2px rgba(0, 0, 0, 0.3));\n",
              "      fill: #FFFFFF;\n",
              "    }\n",
              "  </style>\n",
              "\n",
              "    <script>\n",
              "      const buttonEl =\n",
              "        document.querySelector('#df-e23149b6-43ac-4d31-8198-e79266a89e08 button.colab-df-convert');\n",
              "      buttonEl.style.display =\n",
              "        google.colab.kernel.accessAllowed ? 'block' : 'none';\n",
              "\n",
              "      async function convertToInteractive(key) {\n",
              "        const element = document.querySelector('#df-e23149b6-43ac-4d31-8198-e79266a89e08');\n",
              "        const dataTable =\n",
              "          await google.colab.kernel.invokeFunction('convertToInteractive',\n",
              "                                                    [key], {});\n",
              "        if (!dataTable) return;\n",
              "\n",
              "        const docLinkHtml = 'Like what you see? Visit the ' +\n",
              "          '<a target=\"_blank\" href=https://colab.research.google.com/notebooks/data_table.ipynb>data table notebook</a>'\n",
              "          + ' to learn more about interactive tables.';\n",
              "        element.innerHTML = '';\n",
              "        dataTable['output_type'] = 'display_data';\n",
              "        await google.colab.output.renderOutput(dataTable, element);\n",
              "        const docLink = document.createElement('div');\n",
              "        docLink.innerHTML = docLinkHtml;\n",
              "        element.appendChild(docLink);\n",
              "      }\n",
              "    </script>\n",
              "  </div>\n",
              "\n",
              "\n",
              "    <div id=\"df-7e52ae80-dc49-4d58-a01b-a50d125d3cc2\">\n",
              "      <button class=\"colab-df-quickchart\" onclick=\"quickchart('df-7e52ae80-dc49-4d58-a01b-a50d125d3cc2')\"\n",
              "                title=\"Suggest charts\"\n",
              "                style=\"display:none;\">\n",
              "\n",
              "<svg xmlns=\"http://www.w3.org/2000/svg\" height=\"24px\"viewBox=\"0 0 24 24\"\n",
              "     width=\"24px\">\n",
              "    <g>\n",
              "        <path d=\"M19 3H5c-1.1 0-2 .9-2 2v14c0 1.1.9 2 2 2h14c1.1 0 2-.9 2-2V5c0-1.1-.9-2-2-2zM9 17H7v-7h2v7zm4 0h-2V7h2v10zm4 0h-2v-4h2v4z\"/>\n",
              "    </g>\n",
              "</svg>\n",
              "      </button>\n",
              "\n",
              "<style>\n",
              "  .colab-df-quickchart {\n",
              "      --bg-color: #E8F0FE;\n",
              "      --fill-color: #1967D2;\n",
              "      --hover-bg-color: #E2EBFA;\n",
              "      --hover-fill-color: #174EA6;\n",
              "      --disabled-fill-color: #AAA;\n",
              "      --disabled-bg-color: #DDD;\n",
              "  }\n",
              "\n",
              "  [theme=dark] .colab-df-quickchart {\n",
              "      --bg-color: #3B4455;\n",
              "      --fill-color: #D2E3FC;\n",
              "      --hover-bg-color: #434B5C;\n",
              "      --hover-fill-color: #FFFFFF;\n",
              "      --disabled-bg-color: #3B4455;\n",
              "      --disabled-fill-color: #666;\n",
              "  }\n",
              "\n",
              "  .colab-df-quickchart {\n",
              "    background-color: var(--bg-color);\n",
              "    border: none;\n",
              "    border-radius: 50%;\n",
              "    cursor: pointer;\n",
              "    display: none;\n",
              "    fill: var(--fill-color);\n",
              "    height: 32px;\n",
              "    padding: 0;\n",
              "    width: 32px;\n",
              "  }\n",
              "\n",
              "  .colab-df-quickchart:hover {\n",
              "    background-color: var(--hover-bg-color);\n",
              "    box-shadow: 0 1px 2px rgba(60, 64, 67, 0.3), 0 1px 3px 1px rgba(60, 64, 67, 0.15);\n",
              "    fill: var(--button-hover-fill-color);\n",
              "  }\n",
              "\n",
              "  .colab-df-quickchart-complete:disabled,\n",
              "  .colab-df-quickchart-complete:disabled:hover {\n",
              "    background-color: var(--disabled-bg-color);\n",
              "    fill: var(--disabled-fill-color);\n",
              "    box-shadow: none;\n",
              "  }\n",
              "\n",
              "  .colab-df-spinner {\n",
              "    border: 2px solid var(--fill-color);\n",
              "    border-color: transparent;\n",
              "    border-bottom-color: var(--fill-color);\n",
              "    animation:\n",
              "      spin 1s steps(1) infinite;\n",
              "  }\n",
              "\n",
              "  @keyframes spin {\n",
              "    0% {\n",
              "      border-color: transparent;\n",
              "      border-bottom-color: var(--fill-color);\n",
              "      border-left-color: var(--fill-color);\n",
              "    }\n",
              "    20% {\n",
              "      border-color: transparent;\n",
              "      border-left-color: var(--fill-color);\n",
              "      border-top-color: var(--fill-color);\n",
              "    }\n",
              "    30% {\n",
              "      border-color: transparent;\n",
              "      border-left-color: var(--fill-color);\n",
              "      border-top-color: var(--fill-color);\n",
              "      border-right-color: var(--fill-color);\n",
              "    }\n",
              "    40% {\n",
              "      border-color: transparent;\n",
              "      border-right-color: var(--fill-color);\n",
              "      border-top-color: var(--fill-color);\n",
              "    }\n",
              "    60% {\n",
              "      border-color: transparent;\n",
              "      border-right-color: var(--fill-color);\n",
              "    }\n",
              "    80% {\n",
              "      border-color: transparent;\n",
              "      border-right-color: var(--fill-color);\n",
              "      border-bottom-color: var(--fill-color);\n",
              "    }\n",
              "    90% {\n",
              "      border-color: transparent;\n",
              "      border-bottom-color: var(--fill-color);\n",
              "    }\n",
              "  }\n",
              "</style>\n",
              "\n",
              "      <script>\n",
              "        async function quickchart(key) {\n",
              "          const quickchartButtonEl =\n",
              "            document.querySelector('#' + key + ' button');\n",
              "          quickchartButtonEl.disabled = true;  // To prevent multiple clicks.\n",
              "          quickchartButtonEl.classList.add('colab-df-spinner');\n",
              "          try {\n",
              "            const charts = await google.colab.kernel.invokeFunction(\n",
              "                'suggestCharts', [key], {});\n",
              "          } catch (error) {\n",
              "            console.error('Error during call to suggestCharts:', error);\n",
              "          }\n",
              "          quickchartButtonEl.classList.remove('colab-df-spinner');\n",
              "          quickchartButtonEl.classList.add('colab-df-quickchart-complete');\n",
              "        }\n",
              "        (() => {\n",
              "          let quickchartButtonEl =\n",
              "            document.querySelector('#df-7e52ae80-dc49-4d58-a01b-a50d125d3cc2 button');\n",
              "          quickchartButtonEl.style.display =\n",
              "            google.colab.kernel.accessAllowed ? 'block' : 'none';\n",
              "        })();\n",
              "      </script>\n",
              "    </div>\n",
              "\n",
              "    </div>\n",
              "  </div>\n"
            ],
            "application/vnd.google.colaboratory.intrinsic+json": {
              "type": "dataframe",
              "variable_name": "monogramas_cifrado_2",
              "summary": "{\n  \"name\": \"monogramas_cifrado_2\",\n  \"rows\": 24,\n  \"fields\": [\n    {\n      \"column\": \"ngramas\",\n      \"properties\": {\n        \"dtype\": \"string\",\n        \"num_unique_values\": 24,\n        \"samples\": [\n          \"K\",\n          \"E\",\n          \"H\"\n        ],\n        \"semantic_type\": \"\",\n        \"description\": \"\"\n      }\n    },\n    {\n      \"column\": \"frecuencia\",\n      \"properties\": {\n        \"dtype\": \"number\",\n        \"std\": 183,\n        \"min\": 4,\n        \"max\": 645,\n        \"num_unique_values\": 21,\n        \"samples\": [\n          645,\n          25,\n          44\n        ],\n        \"semantic_type\": \"\",\n        \"description\": \"\"\n      }\n    }\n  ]\n}"
            }
          },
          "metadata": {},
          "execution_count": 19
        }
      ]
    },
    {
      "cell_type": "code",
      "source": [
        "texto_plano_2 = \"\"\n",
        "\n",
        "for i in range(1, len(texto_plano), 4):\n",
        "    texto_plano_2 += texto_plano[i]\n",
        "\n",
        "texto_plano_2"
      ],
      "metadata": {
        "colab": {
          "base_uri": "https://localhost:8080/",
          "height": 122
        },
        "id": "rOF7Vl-eTrnj",
        "outputId": "6efb5773-20a9-4a8f-d4ee-252486c3b2b8"
      },
      "execution_count": 20,
      "outputs": [
        {
          "output_type": "execute_result",
          "data": {
            "text/plain": [
              "'ledcdstíeezeiietVsoeaulalrenadnteeqeíoidroereDeosíanasrecsjroroltaacednrsrsirnhtcaLcdaaollrodtamiuymnjsíleudrqlsnsosñsuetedEmAnasiamoredaamrefaattluaoaaelSaíMrSelotíalacsaíaruqeinotiilcdMslassaoaoptcrsíleasvoasobyusdatbpeuneipeaebrbisvlbeCosledeáceetsuthnedraauedrsíroiaslenarsctusesoeegselmzaleednecanetstislnricmreoieecnososiaíesaiaaoeozlhajeuaalceluaeeljeñíapluciaoldelreaireceiedodrdybneteeuLlaeocespnclterotmooanipeátlaiaunaactosbrinmeeuneeecndejunedypnsntuoepebireuneebntealndsotaaieolrafcctesaicealvouoaedsrsíclanfoaasoiyuonirbasdludnnTeereoatqeoarlasosoqeactpecetjdbeclsoaeznpdeerneeyogisleeiaordsetnorlenarsaionllsáetusisosdigdaoiadioíbplsróeorirnasiueialensobtardeidpidietelacloasoolaiceeoiebieerncrndeHaoeedeceuondsoreabbcbacuflssíalsaainsteucaoredEmcslallauaiqepgioomuAcechtnhdsusisaosíeobulccegdpcnyoeáioeezaeeplirudhayorteaerseeshsosnrerpodEmNlagiiodeayiliaecoetdrtiorregncsaganaaíhuaanhtudprbuolóáduoefolblibcnaeaetxsolooyeVlaeasacesolonmnsossaaaralayaacqíossbsareroíoorczeooleavhnsadeqliilbacnpceecalccaascaytnsrrstleoroonvaPcubdtneqpaecninernomeectdn'"
            ],
            "application/vnd.google.colaboratory.intrinsic+json": {
              "type": "string"
            }
          },
          "metadata": {},
          "execution_count": 20
        }
      ]
    },
    {
      "cell_type": "markdown",
      "source": [
        "# Tercera Palabra"
      ],
      "metadata": {
        "id": "1cuW0ysHVkpK"
      }
    },
    {
      "cell_type": "code",
      "source": [
        "texto_cifrado_3 = \"\"\n",
        "\n",
        "for i in range(2, len(texto_cifrado), lkeyword):\n",
        "  texto_cifrado_3 += texto_cifrado[i]\n",
        "\n",
        "texto_cifrado_3"
      ],
      "metadata": {
        "id": "kEFd98omwlKC",
        "colab": {
          "base_uri": "https://localhost:8080/",
          "height": 122
        },
        "outputId": "f0719234-d0d8-47f2-c204-20d378dd6725"
      },
      "execution_count": 21,
      "outputs": [
        {
          "output_type": "execute_result",
          "data": {
            "text/plain": [
              "'GKLHGLLHVPXUZEPXLCZFULUJJTUPKXHXUJAQHLGXFLMVVLUGLHUXCMKVHEHAVLVHTZUXGXCHXLZHHCAXXUHTHLGFLJTJLAUHFKUHKXEHUGFLXAXAPUCHHLLCLLLFHUXCLZFAUXKLPOTHBALOLHHKUZKPKXHZHHXHKHVTVVLVTKJUMGTAKKLJLCXHTHHCEHOLGUNPAXHXPFHOPPLVFPOUCGKLZXHUEVVZHXOOGTUHHFHUHFHKXVVXUJHNEHAWHTLFLKVUFJLLQHWPCVPLUPKHCQXXQKTUPFAUGHOHBUFOXHUTGXXHOLXOXXHVHTHPUZRUXHJKVOXGHUPZPULJUJHPHFHFLVRHHNHLVLOXHUXKJXUMHLVZAHVHGEUVTUUVEWHFHOGHLLPXNEVHLHCUXFXHPHHHUGVXTVCJHFHKGXKLZVTCFVXHFLTLKCOUEPKOZKXTLZHLCGTXHPAEXLUIHKHXKGLEFVHETFGMCLZVAJTVCRHFOHTXHKHKUTPGPLHUMCVLPTQHQLKLTOCPLDFLHHJCHGOTLVGLPCXVGTOLWGATFGHXJLVOVAKLALGFTUHXTGUQPAMLGHCUXGUGXHVHGGPLLUGELVLXKCHKFAHKAVHOUKFCZAHVWLLHWVCXHCGLGUXJLJQHHLHCHFFKLCHCLOCLKPMHGTKVGLFXXKPLGLCCOHJUPHLUUCUVXUXQCUUHHHXEHTXXPCLTHLGFOXCTUOKELPDCUFHUHGBXZHXPCHVLOQHFHKGEVLKVCGLFHHLCVHXVFVLAFXUHGGLTUXFQHHULLKPDUGVJQHNLVTPTHUHLHTPPKHHJGVPTFHUXWLHVGLFXVTLWJULXGFHAKVLLTVXHVLFHXXUUHLKLGGLGHLVUTKCHLTHLVLXOHXHVGHJCKGHHHVGLAHLTHOXLFHFGLLMLLVHHWOXHCGVFGHCXZKVGLULUMFVXUXFMVHVXJHHULKJZJCGHGLFGXAHVLOLBDROLQHKQUXXUTFLWGTHHLVLGAZPXTHOXHHHGEXBUHQOKLQJVHAVLHLTXNVUNVULFHTFHLXHVAGKFHXFMFHLVXBFAGLCLKCNTKGCBXGCHHLXVATCLLFWHUGLHGBQOTCUVPJXUPKHZTCULOKXLGHLGLZXUXUJHHFTZKLXHZLUTTXJLVJKVTLVLGMTXVVVGBVQFUPTHVGLBLLHTUDGXOXHGMFLFUHUHJOTLCLGGXKCAFHHFEHWTATGCHXFTXPKUPFOUPUHTHPXCHVXPFLGLTTXGLGFHFCBHHGQHGWTLUKMKPUTHVPUXLZLULHZGLKHUUHTLOCOCLHAOLHVGPHHUGLLQHLXHLKAGLACUOXXCLXXPVXGVKDGFHCCHLZFHCFAAXKPVJUCGTUUAXUXUHFLLFUXUXVGUXUWVBUQFKHUHZFFKHUTGHGHUWVHUHZVUEUHXXVUVHXTEVXTTHGKAHKUVXFUVGVLANKVBKLHHTHKHXAMCLXVKLAHXGKWKFAGCVXNVXVXKGXFZVPHHTLVLJXVDXGHGUJLLTOGLHVTHOAVKDHAXWXTKVXFTBHPHUAKALKZHKFKGVVLMDFOCFUTVLAHZCQHFPKKAXHCTGPOFOHHCFTLKLXUHLAAGZHHPOLVUHLGHHTHUVTVHXBFGXXMHVFAEEXAHHOHVHLGWPHGHFHUDTOLVKVPGVLLLFLHVXXUKHLUFFXLFBXKLFLUUMVTOHXGXLQUKLGFAULLVXVPGUBXFXBHLGCVOXOLVLGTPVPXHXAGFXPFTUGXXVGUGZPVTLGKPFTFGUZLXVVHUXZVCAVXGKLUVJLXPHBMHZHJKLZBLPKMFZHXTHMXTGXXTUXLVXLCVOTLVTMHZHVKUTTLZGLTXFXZGKMHVHTKTPTGXAUEGHHXFLPHKHHOHUHPLGVLQFKKHHPTHKAGBULHLKVUPLPUHGLJTQHALVHFVDXGKLURHHLHPUAATATXUTFLJHLVHUUHTUTTKXNVAVOLLCOXHGZLTUPUHFHAKFLTUXFHXHHLHGHTLHPFULXTZFATQGPKUXUHCTHLTFEHXUFHHFHVFLLHZURFUJXHQFHMOXTGFVCUGPVHXTMGHCOLPXTZLAHLVEGVXGKLCGKFGMHKXUXMRHVXTVHXXVHLXZLCXLLGXCULXKXLHHHHLKVPGVGCAAELUCPFLXPHLOLGTVTHXLVDXCFLHUTLUCLBFAUZFNHUZXZTVCUAALXCTLKAGCGACAXHTUFFHPFLLKLMZLGHLVTFHTPHQXKKXBUHXBUVGXVCUHPHPEAWMHFHHOKOLJBGKTLAGHHGHFUVGATOTXCTXLTFTMUJLJLWKVGFXEVHVTXLTTAHUXTLFXHULLUXOHJUTGXTLHTMLCKHLLHXHAHXXLFJKLLKHFVTDLJKGLHXHHLXTKZNHUXZNVGFMKHQGFVXLVGHDHCLOKGKGAKXCECEVUAUKFVHVOPOAVXLTLJUXFLHHHHHFFXZLLXXZLCLUFHBUVXCNLJLHLTGGLLTCHHEVWVAKHLHGVKXJHVLTLFPXMLHUVPFVHJHGHZJMTLCJZTFMHFTUCAHQQBTUGVTGOCVUHULFUTXHLWPKDLLUZXXVCGLAVLQLLZVUALCXLCLVKGFKKGAVHHTOHEXPCLCULCNOVUFHAVFCFTGFOXGXKVFFXUVKXUFHLUHFVPTFHHCXFOUHKLLHHXAHHGLXXHLCUUHXUFHXQCLLFACGUHVLTGPXTULXXLUARGVHZTHFLHLZAKVVXGZXUTCLAHWKVFFXUUEHMUXXKGXMXCUFJHKRAVXBLHORLTFKVLZLLHTXPFZOVHXFJZXAPOWHXPHVOZXFULZLVXVLGHHHLUHHVALHVUCLWGXXTXELTUAFZOCZHUJTVHFKHVHHUURFHLWFPGLHGJAPTVHKZHCTUHUHHHGLVLZVTLVJVTLWXZGGTKVHVLOGHUXVGHMTTUGGHCVLLHKMKCLTHUFFLVFHUUCZJGFZTFXVGAJHEHTXULHTGGVUGLXCTFVHUVHLKFLHGNHHZVFXJHTAKHXVGAXTJLHTKHCLHGTVKGLFTUAXFLULGLCUHLJNVHXHUNLVCCGHLXAHVUVETGHHLDLUCUFZUOTZGKLHPHTDOTHFLVTTMBUXXTXZVXGXLXEVKFLXHCNXOCLOUXWPLHULGUXPUHLJGHDTLHHVKULUEUVHHLOCGHHUGLKHVLCXUGLVQHLPZLLBLUHFPLHVTUHLZXXHLLKUUXZLJKCFOXFPXALXPTVXHLXXZHKLCOXGLFXVTJDHHXXXXVTVLKXCLKVJZHLZLWGTULTVXTFFLHUHHLTCHFGCLXQUXMXVTHHJPACTFLXPLGLUHXTGLTFHFETXHHZAXLCPOLGKUFLXZLOVGLAGHFATJHULJZCWKKXKJDXLPXLFZKVXLTKUXTGXUFGUCVTGPABTGHOTMFTOXOLHKLLDXHVAHOLOTUEHBOLGUGOEXFVXOTLXJDHKHUTHLFXFLTHJXKUXXHCDLLVTGLVXZKGHHCHTKLTKFOKLFWKVLVHCELVLRHHLLLWHTGGHFXTBHLEXGTKFALPVEFEHHQCUZXALTLKGKLKGTHCGXVFUTHFXXGXAAVKTVVTHVVQVTPVTGZLLKPMLTFHGVVJHVZGLXVVXVUTWHFXTLXTUXUGXVTZVUAKFTLHVMGUPCGHTLGLRTGLHPGEVHXWCVOKVHHLKVXKWKGVNVPXTLPFLHHVTGKFVTVZHFXVHKCHLLLKPGCHVGEXAPATAALNHHVLOAKXMZHZXHGTAHWOXZKGFXOKXAXFXPHAHPUMHAUFHGLUPFCVHPKJCPRFGLHHHLWHHLGFTFTFTLGHAVJXFJUCHXDJKOLVHTUXAXQHVCKLUZGUUHLHXGUHWTLXOHVHVHGTZLHCVTLCFFXHLVVOLLXXFGVVTKAVLHGBFCIZUPCAPJFXHHHEHFDBALOGAVHGXFVVHGXHCHPRQQHHFOHPGUFJGCVGHTHUEMVCVWZXKLHUKAGFHHFXHGHWZQFXLCXFEZADCLPEMHKOLKLGXLGTZCUJFAFGLOKFUGLXHCHLVXMHUBUVLFXJCPHHBULWGFCHTXVVFAFVNLOXPCLHXCKWTGPEVLPOFXGXGZHFHJADLHULPHHGHWHKPKMHUPKFAFCZPKKKLLVHMTLLLFKXTAHGHPLZKHVHFOJVXTXBUPVEGHTHGHHUZFAXHETLLVGGLZZTPLLFLUWFDXANUMGUTUJVTWLWVVNGTBFCLZKFUJHCXHHHUPLKCKGVFAFLHGKLLTHLHJALVGHPOXXWGUGHLWNHUXHXLUPHWOAHHHVGVHFVFHAHPGRAGVLFPLTUHFCLNPCPUMXLLGATGLVGWFXXLLPFCLTFFXHMHHKHFTUJLLQGKPCUXLHFHTBLHOUWKJJHFGCHFGGGHXXVLCHXAHMXTFOCHKXJTKLXHLLBFPGHZGXTLZRLNKPUNLOGCWKVFTTMGKOLVCTFLFFHFHWAAUAAOXHAUFCULPAGLLOGLZZVTULCUPRXLGOXXKUTHVLLGAVCVTLFFXVGTVLJFZTLGPHEVDVTXHLVJOFPFTKGGGFHXHLLLGHVTKTPULLWXXHLHHJAVULKHFAGETFHGKXZOPAHAALAVZWPLBHHHVGOACHOLKKFLLCLPCGFVGLJOZULFLULTPOLXATXHLWGVTFLUKPFHGHEVHKKLFMVHULFVLVLVTXOZZVZHZFLLHCMEUOHLAQHCQHXVHUAPKCHFHLPGLHXUXVHHLLLTZHPLHLGPLHXZGLG'"
            ],
            "application/vnd.google.colaboratory.intrinsic+json": {
              "type": "string"
            }
          },
          "metadata": {},
          "execution_count": 21
        }
      ]
    },
    {
      "cell_type": "code",
      "source": [
        "monogramas_cifrado_3 = frec_ngramas(texto_cifrado_3, 1)\n",
        "monogramas_cifrado_3.head(10)"
      ],
      "metadata": {
        "colab": {
          "base_uri": "https://localhost:8080/",
          "height": 363
        },
        "id": "NxyIVVMurVrv",
        "outputId": "7dd22c38-ebea-4113-9f21-f3f62bfaf608"
      },
      "execution_count": 22,
      "outputs": [
        {
          "output_type": "execute_result",
          "data": {
            "text/plain": [
              "  ngramas  frecuencia\n",
              "0       H         672\n",
              "1       L         580\n",
              "2       X         421\n",
              "3       V         354\n",
              "4       U         324\n",
              "5       G         323\n",
              "6       F         295\n",
              "7       T         291\n",
              "8       K         233\n",
              "9       C         191"
            ],
            "text/html": [
              "\n",
              "  <div id=\"df-fedec213-245d-487f-b41d-d37d1b9c27cd\" class=\"colab-df-container\">\n",
              "    <div>\n",
              "<style scoped>\n",
              "    .dataframe tbody tr th:only-of-type {\n",
              "        vertical-align: middle;\n",
              "    }\n",
              "\n",
              "    .dataframe tbody tr th {\n",
              "        vertical-align: top;\n",
              "    }\n",
              "\n",
              "    .dataframe thead th {\n",
              "        text-align: right;\n",
              "    }\n",
              "</style>\n",
              "<table border=\"1\" class=\"dataframe\">\n",
              "  <thead>\n",
              "    <tr style=\"text-align: right;\">\n",
              "      <th></th>\n",
              "      <th>ngramas</th>\n",
              "      <th>frecuencia</th>\n",
              "    </tr>\n",
              "  </thead>\n",
              "  <tbody>\n",
              "    <tr>\n",
              "      <th>0</th>\n",
              "      <td>H</td>\n",
              "      <td>672</td>\n",
              "    </tr>\n",
              "    <tr>\n",
              "      <th>1</th>\n",
              "      <td>L</td>\n",
              "      <td>580</td>\n",
              "    </tr>\n",
              "    <tr>\n",
              "      <th>2</th>\n",
              "      <td>X</td>\n",
              "      <td>421</td>\n",
              "    </tr>\n",
              "    <tr>\n",
              "      <th>3</th>\n",
              "      <td>V</td>\n",
              "      <td>354</td>\n",
              "    </tr>\n",
              "    <tr>\n",
              "      <th>4</th>\n",
              "      <td>U</td>\n",
              "      <td>324</td>\n",
              "    </tr>\n",
              "    <tr>\n",
              "      <th>5</th>\n",
              "      <td>G</td>\n",
              "      <td>323</td>\n",
              "    </tr>\n",
              "    <tr>\n",
              "      <th>6</th>\n",
              "      <td>F</td>\n",
              "      <td>295</td>\n",
              "    </tr>\n",
              "    <tr>\n",
              "      <th>7</th>\n",
              "      <td>T</td>\n",
              "      <td>291</td>\n",
              "    </tr>\n",
              "    <tr>\n",
              "      <th>8</th>\n",
              "      <td>K</td>\n",
              "      <td>233</td>\n",
              "    </tr>\n",
              "    <tr>\n",
              "      <th>9</th>\n",
              "      <td>C</td>\n",
              "      <td>191</td>\n",
              "    </tr>\n",
              "  </tbody>\n",
              "</table>\n",
              "</div>\n",
              "    <div class=\"colab-df-buttons\">\n",
              "\n",
              "  <div class=\"colab-df-container\">\n",
              "    <button class=\"colab-df-convert\" onclick=\"convertToInteractive('df-fedec213-245d-487f-b41d-d37d1b9c27cd')\"\n",
              "            title=\"Convert this dataframe to an interactive table.\"\n",
              "            style=\"display:none;\">\n",
              "\n",
              "  <svg xmlns=\"http://www.w3.org/2000/svg\" height=\"24px\" viewBox=\"0 -960 960 960\">\n",
              "    <path d=\"M120-120v-720h720v720H120Zm60-500h600v-160H180v160Zm220 220h160v-160H400v160Zm0 220h160v-160H400v160ZM180-400h160v-160H180v160Zm440 0h160v-160H620v160ZM180-180h160v-160H180v160Zm440 0h160v-160H620v160Z\"/>\n",
              "  </svg>\n",
              "    </button>\n",
              "\n",
              "  <style>\n",
              "    .colab-df-container {\n",
              "      display:flex;\n",
              "      gap: 12px;\n",
              "    }\n",
              "\n",
              "    .colab-df-convert {\n",
              "      background-color: #E8F0FE;\n",
              "      border: none;\n",
              "      border-radius: 50%;\n",
              "      cursor: pointer;\n",
              "      display: none;\n",
              "      fill: #1967D2;\n",
              "      height: 32px;\n",
              "      padding: 0 0 0 0;\n",
              "      width: 32px;\n",
              "    }\n",
              "\n",
              "    .colab-df-convert:hover {\n",
              "      background-color: #E2EBFA;\n",
              "      box-shadow: 0px 1px 2px rgba(60, 64, 67, 0.3), 0px 1px 3px 1px rgba(60, 64, 67, 0.15);\n",
              "      fill: #174EA6;\n",
              "    }\n",
              "\n",
              "    .colab-df-buttons div {\n",
              "      margin-bottom: 4px;\n",
              "    }\n",
              "\n",
              "    [theme=dark] .colab-df-convert {\n",
              "      background-color: #3B4455;\n",
              "      fill: #D2E3FC;\n",
              "    }\n",
              "\n",
              "    [theme=dark] .colab-df-convert:hover {\n",
              "      background-color: #434B5C;\n",
              "      box-shadow: 0px 1px 3px 1px rgba(0, 0, 0, 0.15);\n",
              "      filter: drop-shadow(0px 1px 2px rgba(0, 0, 0, 0.3));\n",
              "      fill: #FFFFFF;\n",
              "    }\n",
              "  </style>\n",
              "\n",
              "    <script>\n",
              "      const buttonEl =\n",
              "        document.querySelector('#df-fedec213-245d-487f-b41d-d37d1b9c27cd button.colab-df-convert');\n",
              "      buttonEl.style.display =\n",
              "        google.colab.kernel.accessAllowed ? 'block' : 'none';\n",
              "\n",
              "      async function convertToInteractive(key) {\n",
              "        const element = document.querySelector('#df-fedec213-245d-487f-b41d-d37d1b9c27cd');\n",
              "        const dataTable =\n",
              "          await google.colab.kernel.invokeFunction('convertToInteractive',\n",
              "                                                    [key], {});\n",
              "        if (!dataTable) return;\n",
              "\n",
              "        const docLinkHtml = 'Like what you see? Visit the ' +\n",
              "          '<a target=\"_blank\" href=https://colab.research.google.com/notebooks/data_table.ipynb>data table notebook</a>'\n",
              "          + ' to learn more about interactive tables.';\n",
              "        element.innerHTML = '';\n",
              "        dataTable['output_type'] = 'display_data';\n",
              "        await google.colab.output.renderOutput(dataTable, element);\n",
              "        const docLink = document.createElement('div');\n",
              "        docLink.innerHTML = docLinkHtml;\n",
              "        element.appendChild(docLink);\n",
              "      }\n",
              "    </script>\n",
              "  </div>\n",
              "\n",
              "\n",
              "    <div id=\"df-d3fb3476-deb8-4467-8433-2f210f2405f6\">\n",
              "      <button class=\"colab-df-quickchart\" onclick=\"quickchart('df-d3fb3476-deb8-4467-8433-2f210f2405f6')\"\n",
              "                title=\"Suggest charts\"\n",
              "                style=\"display:none;\">\n",
              "\n",
              "<svg xmlns=\"http://www.w3.org/2000/svg\" height=\"24px\"viewBox=\"0 0 24 24\"\n",
              "     width=\"24px\">\n",
              "    <g>\n",
              "        <path d=\"M19 3H5c-1.1 0-2 .9-2 2v14c0 1.1.9 2 2 2h14c1.1 0 2-.9 2-2V5c0-1.1-.9-2-2-2zM9 17H7v-7h2v7zm4 0h-2V7h2v10zm4 0h-2v-4h2v4z\"/>\n",
              "    </g>\n",
              "</svg>\n",
              "      </button>\n",
              "\n",
              "<style>\n",
              "  .colab-df-quickchart {\n",
              "      --bg-color: #E8F0FE;\n",
              "      --fill-color: #1967D2;\n",
              "      --hover-bg-color: #E2EBFA;\n",
              "      --hover-fill-color: #174EA6;\n",
              "      --disabled-fill-color: #AAA;\n",
              "      --disabled-bg-color: #DDD;\n",
              "  }\n",
              "\n",
              "  [theme=dark] .colab-df-quickchart {\n",
              "      --bg-color: #3B4455;\n",
              "      --fill-color: #D2E3FC;\n",
              "      --hover-bg-color: #434B5C;\n",
              "      --hover-fill-color: #FFFFFF;\n",
              "      --disabled-bg-color: #3B4455;\n",
              "      --disabled-fill-color: #666;\n",
              "  }\n",
              "\n",
              "  .colab-df-quickchart {\n",
              "    background-color: var(--bg-color);\n",
              "    border: none;\n",
              "    border-radius: 50%;\n",
              "    cursor: pointer;\n",
              "    display: none;\n",
              "    fill: var(--fill-color);\n",
              "    height: 32px;\n",
              "    padding: 0;\n",
              "    width: 32px;\n",
              "  }\n",
              "\n",
              "  .colab-df-quickchart:hover {\n",
              "    background-color: var(--hover-bg-color);\n",
              "    box-shadow: 0 1px 2px rgba(60, 64, 67, 0.3), 0 1px 3px 1px rgba(60, 64, 67, 0.15);\n",
              "    fill: var(--button-hover-fill-color);\n",
              "  }\n",
              "\n",
              "  .colab-df-quickchart-complete:disabled,\n",
              "  .colab-df-quickchart-complete:disabled:hover {\n",
              "    background-color: var(--disabled-bg-color);\n",
              "    fill: var(--disabled-fill-color);\n",
              "    box-shadow: none;\n",
              "  }\n",
              "\n",
              "  .colab-df-spinner {\n",
              "    border: 2px solid var(--fill-color);\n",
              "    border-color: transparent;\n",
              "    border-bottom-color: var(--fill-color);\n",
              "    animation:\n",
              "      spin 1s steps(1) infinite;\n",
              "  }\n",
              "\n",
              "  @keyframes spin {\n",
              "    0% {\n",
              "      border-color: transparent;\n",
              "      border-bottom-color: var(--fill-color);\n",
              "      border-left-color: var(--fill-color);\n",
              "    }\n",
              "    20% {\n",
              "      border-color: transparent;\n",
              "      border-left-color: var(--fill-color);\n",
              "      border-top-color: var(--fill-color);\n",
              "    }\n",
              "    30% {\n",
              "      border-color: transparent;\n",
              "      border-left-color: var(--fill-color);\n",
              "      border-top-color: var(--fill-color);\n",
              "      border-right-color: var(--fill-color);\n",
              "    }\n",
              "    40% {\n",
              "      border-color: transparent;\n",
              "      border-right-color: var(--fill-color);\n",
              "      border-top-color: var(--fill-color);\n",
              "    }\n",
              "    60% {\n",
              "      border-color: transparent;\n",
              "      border-right-color: var(--fill-color);\n",
              "    }\n",
              "    80% {\n",
              "      border-color: transparent;\n",
              "      border-right-color: var(--fill-color);\n",
              "      border-bottom-color: var(--fill-color);\n",
              "    }\n",
              "    90% {\n",
              "      border-color: transparent;\n",
              "      border-bottom-color: var(--fill-color);\n",
              "    }\n",
              "  }\n",
              "</style>\n",
              "\n",
              "      <script>\n",
              "        async function quickchart(key) {\n",
              "          const quickchartButtonEl =\n",
              "            document.querySelector('#' + key + ' button');\n",
              "          quickchartButtonEl.disabled = true;  // To prevent multiple clicks.\n",
              "          quickchartButtonEl.classList.add('colab-df-spinner');\n",
              "          try {\n",
              "            const charts = await google.colab.kernel.invokeFunction(\n",
              "                'suggestCharts', [key], {});\n",
              "          } catch (error) {\n",
              "            console.error('Error during call to suggestCharts:', error);\n",
              "          }\n",
              "          quickchartButtonEl.classList.remove('colab-df-spinner');\n",
              "          quickchartButtonEl.classList.add('colab-df-quickchart-complete');\n",
              "        }\n",
              "        (() => {\n",
              "          let quickchartButtonEl =\n",
              "            document.querySelector('#df-d3fb3476-deb8-4467-8433-2f210f2405f6 button');\n",
              "          quickchartButtonEl.style.display =\n",
              "            google.colab.kernel.accessAllowed ? 'block' : 'none';\n",
              "        })();\n",
              "      </script>\n",
              "    </div>\n",
              "\n",
              "    </div>\n",
              "  </div>\n"
            ],
            "application/vnd.google.colaboratory.intrinsic+json": {
              "type": "dataframe",
              "variable_name": "monogramas_cifrado_3",
              "summary": "{\n  \"name\": \"monogramas_cifrado_3\",\n  \"rows\": 24,\n  \"fields\": [\n    {\n      \"column\": \"ngramas\",\n      \"properties\": {\n        \"dtype\": \"string\",\n        \"num_unique_values\": 24,\n        \"samples\": [\n          \"K\",\n          \"M\",\n          \"H\"\n        ],\n        \"semantic_type\": \"\",\n        \"description\": \"\"\n      }\n    },\n    {\n      \"column\": \"frecuencia\",\n      \"properties\": {\n        \"dtype\": \"number\",\n        \"std\": 180,\n        \"min\": 2,\n        \"max\": 672,\n        \"num_unique_values\": 22,\n        \"samples\": [\n          672,\n          126,\n          233\n        ],\n        \"semantic_type\": \"\",\n        \"description\": \"\"\n      }\n    }\n  ]\n}"
            }
          },
          "metadata": {},
          "execution_count": 22
        }
      ]
    },
    {
      "cell_type": "code",
      "source": [
        "texto_plano_3 = \"\"\n",
        "\n",
        "for i in range(2, len(texto_plano), 4):\n",
        "    texto_plano_3 += texto_plano[i]\n",
        "\n",
        "texto_plano_3"
      ],
      "metadata": {
        "colab": {
          "base_uri": "https://localhost:8080/",
          "height": 122
        },
        "id": "uY3rRbwqTnej",
        "outputId": "1ecbc9b2-d1ca-437e-fa0f-bf04da3a9e6f"
      },
      "execution_count": 23,
      "outputs": [
        {
          "output_type": "execute_result",
          "data": {
            "text/plain": [
              "'rdeareeascolmvcoetmnlelbbilcdoaolbuhaeroNeySselrealotydsavausesaimlorotaoemaatuoolaiaernebibeuLándládovalrneououcltaaEeteeenalotemnulodecpiaquepeaadlmdcdoaMaaoadasissesidBlyriuddebetoaiaatvaperljcuoaocnapccesncpltrdemoalvssmaopprilaanalanadoSsolbajvaugaienedslnbeehagCtscelcdathoohdilcnulrapaqlnpoalirooapeopooasaiaclmzloabdsporalcmcleblbacananeszaajaesepoalodbolyaesmuasarvlsillsvganapraeecojVsaeatlonoacaaalrSoistbanadrodEmsítñsoaneíedtplvcdpmdoiemaetrioacuvoelxadaodreVnsavinrytemsubistzanpaioadadlicrcealytseCihahEdeiptcefneaaBtarpiesrectosripegruínraobespsudeuernilaoírlhcuyeratlorlroasarrceelrveseodtadnuadusapldntmuasgeeagstóatreRlóbebhaaeatanndetateptedcyaridsrenoodcerettpablcaElltlsolohtllaaaovaioocteiaernpotilpdvecftlnalarqomaoctasephanadrVsedstrenaaetsaosnseunolarreilonhaaleedcflrsbhajesiCialaeaiccdaabrscinalogeasrenosiegbleornaudseeisoasenaoollaederreraeslidtaeiaéseopaoasrabtdraaasreuaeíapoenanreeyeesaagpóatrsnratomdsrelelYnsólonysasobaáledbmbtrarenrouasepeqfzpehadhloolínegríaaeserumcoiapoaaarvóqlahpdehbsauseaeíojsljslenaínaeoasurdnaonynaesoqnuret'"
            ],
            "application/vnd.google.colaboratory.intrinsic+json": {
              "type": "string"
            }
          },
          "metadata": {},
          "execution_count": 23
        }
      ]
    },
    {
      "cell_type": "markdown",
      "source": [
        "# Cuarta Palabra"
      ],
      "metadata": {
        "id": "hwcYnPUVVnR7"
      }
    },
    {
      "cell_type": "code",
      "source": [
        "texto_cifrado_4 = \"\"\n",
        "\n",
        "for i in range(3, len(texto_cifrado), lkeyword):\n",
        "  texto_cifrado_4 += texto_cifrado[i]\n",
        "\n",
        "texto_cifrado_4"
      ],
      "metadata": {
        "colab": {
          "base_uri": "https://localhost:8080/",
          "height": 122
        },
        "id": "XGp1c1YtNQRc",
        "outputId": "1dd2b1b3-047a-4dd1-e958-d6d9f4252b6a"
      },
      "execution_count": 24,
      "outputs": [
        {
          "output_type": "execute_result",
          "data": {
            "text/plain": [
              "'LXUCHLFLCQFOTXTKCHOKXVHHHXHTHZJKOULHTVHOXVOACVHGELWVTNTKVTVTHVKHWAUFCVLKOKLFVGLVGLLZLUGXMHXGEVXVHXXVGVTFTPXXVLVVQXGOKUFAFGUPKWVAVHLPHOHAHXVJALFHHKPHHJLHGKFHUMKFGVHBTTVEFLHTOXHLTTUUGXKLZLWGLVTUGTAXLKVFXDVHTXFWKXAXATXVXFULLCLHKJHXQCHGKAVHNLZLUACFHGEHHJVAVZHGKLPLOUXGHVTHXUHVHTHFGHGVAHFPTHFHJUTKAHBGZJEFTJKUGFFXZVCCVVJXHOHHPVGLQTVLBHXATMVHHUOGJKKHUOAVUHVUBUTKLOGXTGTOVFMAPVKCLLHCHHHOTTVCOTHKVUTEXLCTVFXXFCPJLKZKCLHKFXXHBCGLLCLFHLHHXGUVKQHAXTXHXTLCJXZKVXVNHHLPJXPLMGHCGLGEHHVTCCPLKPCKGVAGZHFPHKPLGFXFFLWXLXAKXFZXOLPUUVHQXVXKPHXUKTHFFVLXULGXZLXUALKCHVLUTHLHHWLVTVKXKLHULGLCXPUOHTOXXLHVHPLHDHJTJUCUCHHFVHLTFHKGLAKLVTOHLZKHHHEAHNVLHVUFATHUVHHVLAFTGHHGKGGHPBXTVAUHUTAGTHMVZCLOLFPFLTTVXKHHUBGHLKVXXLLKVHVHVHXXLGFXZPVZTLUFPUCCGVLXXTLLXAALLCUHDTAFHJVXGFVVXXGPKLXLCGLELXUPKVOHLVHLHHNLTGLAHTRFUZFXJJHGGLQHTTMUHFHFLXGDKGUVUXQXXUGHUCQFHBUPHFVOLGXCOLVHHORPOUFGLPGVVOLPXUPKVLHLBFTVLVVHVGLGFLAUHJZFQKVLZVVXTVTXXHFVKMKVLVOHVXVVGPHLUJBFPLZFXLUZLBPKHFLVXLXLUXWHZCFUXFCHOPVCTUGLULHOTXHGVFPVZLFZGUMAAHXVHFTAXKVLVXXAEHPKFHCGLATXWHHFPKUHLZAHVHTHLAHHJFXXVZHVHOXXLHFHGHGFGRVLLLHAZJPVPZFUVALLHULVLHAPTTTAFZLKNVNTLGHUFXXJJTUCHATGUXHTHGKHTHVOXAUCXLKVTULPUXVJVHGUPKWTHPVUOUHEHVLVCHXVXWOUJLLHHPAUAPHPHHLHLWFAVKJWKLHFHZJKHXGXLFLJHGXUTVLHFLGZXBUXTFAFLHXLLVXLBAXTGPAHHTGWLXJHTPPHHQGGZHJXFLCPKGANVTHGLFXUCLXTTZVULTAFUOUVVUALDTUHCVFGXTXLULLHKJTTTKVJTXGHFGZGKHFHGLTHHGCHOLVLLVXZLLTKVGLFHHHWGXLZLLTXTXXXJPXLVJVHBHOPJLVJVHHJVHXCAHTLLKHVXACLTHHLFXVHAKVLVHCETPUHGCUCUUHLCEZGHKLZFLXEVGLHHOPFHLJALGXTHEXKFZPHCVPHVHKZTLAHHTXTLVHCVPGLTZUAKJFUHPCVHHLTVCVCHLROHXVVGKLTXFXLLKNPUUAKAKTHAZUPHKLVGLLKLXLTBLKLTKTXHZHTOFGHGXKHXTVGGDAKTALXXLWGXLHHVEUVGLFATCKAGFLOGVTULLVXTHKPFAHTMFOVHEVALZFCHTKAMVLTXVZOKVHHHHUALKLXHHUVHEFAVCHLGZXKXBGHAVLFXQHLXTLAGGUGFAKLVOEVXVTFFBAXUACLJALZCXULFAFPFHPXLLGLFCLKVHCFXWVCMXALLXOXUGLXTWLAXLLBLHFHVJKTTKVAXWHZTVGHVAKVTVULFHAOTLJXAFVVFVUPHGOZVVRGFCPGLEVHNKVTKLLXWHVTLUXZCUHHLOJKLKHVGHCUHOTZHGKXVXVTBFHVUMQVTBUHKXHVMQLBLJLAHGHEHLXTVQHPTVUKHKMFAKXPTFZLEHKDVFKXUFGFLHKXFLUTUHPVHXHLZPXTVHOFLLFCXHUHXLUVKHLVPKLHXULHFHUZKVGCLHLXHTCUJCHXKHHXHHGHVLVTVVULCLPOXXVWKVOKVLVHPHVHHZKXCGVLVVTKPHXXXKGFVWTZLAFXPPHUZKPOXUTVLXVHTLOXLGHGUFOAVHULPZGGLOGPHPLGHUAVLXGOLGKCGCNFKCHXVBLGLLUWXHCVXHKZXGLWULKKVLTVHLPOXWVHLGAEVHLXHKHACOPTLHGGGFAFGLLHLKZXLJFFTCQUHTLGLUJAFVLUOCUCHXGTGLHKAXVFAPTHCCHXVTUHLLAAZCKUGTGPHAHLJHFAVLXPKWXOCKAPFAFFUCLLOTHUHUHLAHCVLCGHPVFLHLUKQLFKKJXTFXFXVLZCBUPPCBVCHLOKVKVJLCAFFXLHLFXCTTLAOTLCFFPJJUZPLAHGCLAHTXTZLETLCLVZKAUAZXAHDTHHFLPLTXTCHVLTXCJAATXLOVOHVGXVVGFKVWPLHFXFGVVHCLVLFKAXFGXHUTVGUGLTFPHLFCTTLDGLFGLLBLUHVCGHGTHFUOKXZHPHJHVHVXGVHPTUTZCZUHLHHLPLAARXPAVVHTOXUTGHHPKGXXTXTFVHTFJVUTGZKKXZXHCLXGXHUHPHLHXTXULPHQHUFHFXHZLEUHXHLHCGNATHXFACCWKPHHCLUUHHPHXPRXZLKLXLVNAKCXPPLKFFJULKCLLFLFFLHLGJHGTEHAIVKGGAHFXLLLUQHHAPFGHTLLCMHPJZUPRHLALUVLHUOZXDGNXHJPLOHCLFOXVFLPGKVLLCHPLKPPGAZJLXUVCLFVHXLFWEXGXHMEFLHHLVQUAUCHUKHLCHLOHDHCEVLPKEHWVFKROFCGGUTHGCHFLOKHLXXUHJXLHVHGPLFAGXHTKPEFGHLHUVXTMXLLGXAKHHHOHCUJCFWVAVKFVGLHFGVALGUHLKXUTXFXFXTBHVHLAKOTLCAPXALHUJUHTPFLKOHFLHVHDTVWKLHLUFXNWHHLVVXCLHUGVGLUOJLPFBHVUUXXKVHLCFGCZLLLFXTZLFUGPULWGFUQHPLXJPFHNVPFHQGULGJVHLFGKUXXPCGLTJFJGKGLKTXLFQKGGGGKHTHGXHHLVFTAKTLDKHUUXFLAXZVUVXCVLPJVXVLLOLWGAHAHVLPUXGGEHPLPHHUMVHGKLFTUPCTGXHLCHGFHXGAKOHLHHKCZGVHLUTHQVXFFUAXCFKXVGTVLVULKUGFFLXUZLHHLHPHVLTVFLVXCHHVUEGXOTEHXVGUXFCXLTKULVZVZULFHFTPLAHXOKLUTHGJDHTFGPKPBUWVCHGJKHAUNAUVXFCXVJHXVAKKPFXGAPXZCHLPVTDPLKFNUAUMWLAXFFXXTJKHXAXXCLLOKNUGPXFHAHLLHOLLTLKAKGLTXCAFPXHVXLOXXXHXUFTXLAHGGGVUEHXBAGJLGFXKFPZVHKGHHTKAXPTLEHLZAOUGXGVLTKZJZVUTVGTUWJTPLDGLPLUFFZVTFVFTXKVWLLKLFPXHHXGZGLBUZWGLFLGHZKLDFAGKHLUDFXAUUTVGUHCFULTTHLUPHXPLLFFCJLAXULEXPAHVTVZVUTVVWVFGTZPHTCBHDHHWXTVHLUFLGVPXCVLOHXGOLLUFTTELVXHUDFXFKHPGXKFCXHCVTLCXUUTLXHGTHPUFZPUFHDPAXLHVUXXUHLCUNGLCKLAHXMLKALZUHLFFKKFLXHHWUHUHOFULTVFFPGAXLJAHTHFXPHMFDHOVXCXULUUXVLKVTHOUXHALLZLKHXFTVGFHKHJHUPVELUGTUXXHHAMXHTHHHLZULKPUXPJJLAFUFKHPCCLLTZCHHLUOHHXLGCDXXFTVHFKGXGVTULAMFJFGLVXOCVAFOLCWTOLLWGTXULWKOGFLCXFVVVLHHHKLULGAAALGCXHGTPQHURWKPLPOHATGLLWHKHVXMPUXVCLFHHHHHVCUFAXACHEHLLVLVHLHOAUHAGHFKPGLHLJVUZMLAGHHLZKGUXLHLGHAHLLGLTVXVFVZWFTXLHVGXZRUXLTLGKOAHUVGHJLALKMUPTHAJUAXUTHPGPCVKHVGXLHXHFAXWAGLLAZCTLCJHXUXXALLPOBLKACZLUXFHUFAKLHGXVHTHVGXHAAXXTGCHCZHZUFHTVXHVVVLVXLBTFLGHPPLVAXXALHZUKBKVOLCHKOTHTGCHKUJHFXVVHGLXXTLCLPFXXLHLLHXDTOXLYVAPGZHLCHHKHFVFTATUTPLBTVGXGFLXVPLLFGLKVHTKXXZVATTHGXXXTOGKZOXLVGGGKGFLHLDCLXBFUTLUJHXHXXGLHKAGFLGXTPLQGFHFVLCXXXKPUOPAXHFFPVLVLCUXCXUHHVVHOTTHAFFHCVHACGXLXLHHKFXTPHXLCPLNAGLUPMFHFGOXXWHVTJLNGFVOACLHFLVFHJAFBHLTBHKTXXXTCLDUVLXLCGGZCGHGUHGHLTTFLGPOFXCTHUXLZRGHOUJHOCKCHZHKZFAHFDHHPOKHGVLUAVHPTLCUXLHGHVJXVTXVLZTMPWVVPTXCLOVLLPTXVZVVUFWAUCLPXHAPAOLVEPVGLCHFXCXLPLKVFHXVOHTLKCFFLTJXHPAJWKXLXLLOHFLHXRCLMAXTHCHVHLLHUKVZPHTHUGOXGGXTHLZCUHLLLULVLZPTHDPKOBXGHKNXKLHJXHLUTVLLBUETHHXLGULHDHHVAPGHPQLALTOVXLGVZVFHVVFHEHHPHHNFHTPZGHTHL'"
            ],
            "application/vnd.google.colaboratory.intrinsic+json": {
              "type": "string"
            }
          },
          "metadata": {},
          "execution_count": 24
        }
      ]
    },
    {
      "cell_type": "code",
      "source": [
        "monogramas_cifrado_4 = frec_ngramas(texto_cifrado_4, 1)\n",
        "monogramas_cifrado_4.head(10)"
      ],
      "metadata": {
        "colab": {
          "base_uri": "https://localhost:8080/",
          "height": 363
        },
        "id": "-_GX-UoqrV7f",
        "outputId": "ecd06230-9a93-44f9-a98b-7fea1a9c04e7"
      },
      "execution_count": 25,
      "outputs": [
        {
          "output_type": "execute_result",
          "data": {
            "text/plain": [
              "  ngramas  frecuencia\n",
              "0       H         654\n",
              "1       L         599\n",
              "2       X         432\n",
              "3       V         403\n",
              "4       G         302\n",
              "5       F         300\n",
              "6       T         293\n",
              "7       U         281\n",
              "8       K         238\n",
              "9       A         210"
            ],
            "text/html": [
              "\n",
              "  <div id=\"df-50076f35-6c93-4590-8344-a973b04cd66b\" class=\"colab-df-container\">\n",
              "    <div>\n",
              "<style scoped>\n",
              "    .dataframe tbody tr th:only-of-type {\n",
              "        vertical-align: middle;\n",
              "    }\n",
              "\n",
              "    .dataframe tbody tr th {\n",
              "        vertical-align: top;\n",
              "    }\n",
              "\n",
              "    .dataframe thead th {\n",
              "        text-align: right;\n",
              "    }\n",
              "</style>\n",
              "<table border=\"1\" class=\"dataframe\">\n",
              "  <thead>\n",
              "    <tr style=\"text-align: right;\">\n",
              "      <th></th>\n",
              "      <th>ngramas</th>\n",
              "      <th>frecuencia</th>\n",
              "    </tr>\n",
              "  </thead>\n",
              "  <tbody>\n",
              "    <tr>\n",
              "      <th>0</th>\n",
              "      <td>H</td>\n",
              "      <td>654</td>\n",
              "    </tr>\n",
              "    <tr>\n",
              "      <th>1</th>\n",
              "      <td>L</td>\n",
              "      <td>599</td>\n",
              "    </tr>\n",
              "    <tr>\n",
              "      <th>2</th>\n",
              "      <td>X</td>\n",
              "      <td>432</td>\n",
              "    </tr>\n",
              "    <tr>\n",
              "      <th>3</th>\n",
              "      <td>V</td>\n",
              "      <td>403</td>\n",
              "    </tr>\n",
              "    <tr>\n",
              "      <th>4</th>\n",
              "      <td>G</td>\n",
              "      <td>302</td>\n",
              "    </tr>\n",
              "    <tr>\n",
              "      <th>5</th>\n",
              "      <td>F</td>\n",
              "      <td>300</td>\n",
              "    </tr>\n",
              "    <tr>\n",
              "      <th>6</th>\n",
              "      <td>T</td>\n",
              "      <td>293</td>\n",
              "    </tr>\n",
              "    <tr>\n",
              "      <th>7</th>\n",
              "      <td>U</td>\n",
              "      <td>281</td>\n",
              "    </tr>\n",
              "    <tr>\n",
              "      <th>8</th>\n",
              "      <td>K</td>\n",
              "      <td>238</td>\n",
              "    </tr>\n",
              "    <tr>\n",
              "      <th>9</th>\n",
              "      <td>A</td>\n",
              "      <td>210</td>\n",
              "    </tr>\n",
              "  </tbody>\n",
              "</table>\n",
              "</div>\n",
              "    <div class=\"colab-df-buttons\">\n",
              "\n",
              "  <div class=\"colab-df-container\">\n",
              "    <button class=\"colab-df-convert\" onclick=\"convertToInteractive('df-50076f35-6c93-4590-8344-a973b04cd66b')\"\n",
              "            title=\"Convert this dataframe to an interactive table.\"\n",
              "            style=\"display:none;\">\n",
              "\n",
              "  <svg xmlns=\"http://www.w3.org/2000/svg\" height=\"24px\" viewBox=\"0 -960 960 960\">\n",
              "    <path d=\"M120-120v-720h720v720H120Zm60-500h600v-160H180v160Zm220 220h160v-160H400v160Zm0 220h160v-160H400v160ZM180-400h160v-160H180v160Zm440 0h160v-160H620v160ZM180-180h160v-160H180v160Zm440 0h160v-160H620v160Z\"/>\n",
              "  </svg>\n",
              "    </button>\n",
              "\n",
              "  <style>\n",
              "    .colab-df-container {\n",
              "      display:flex;\n",
              "      gap: 12px;\n",
              "    }\n",
              "\n",
              "    .colab-df-convert {\n",
              "      background-color: #E8F0FE;\n",
              "      border: none;\n",
              "      border-radius: 50%;\n",
              "      cursor: pointer;\n",
              "      display: none;\n",
              "      fill: #1967D2;\n",
              "      height: 32px;\n",
              "      padding: 0 0 0 0;\n",
              "      width: 32px;\n",
              "    }\n",
              "\n",
              "    .colab-df-convert:hover {\n",
              "      background-color: #E2EBFA;\n",
              "      box-shadow: 0px 1px 2px rgba(60, 64, 67, 0.3), 0px 1px 3px 1px rgba(60, 64, 67, 0.15);\n",
              "      fill: #174EA6;\n",
              "    }\n",
              "\n",
              "    .colab-df-buttons div {\n",
              "      margin-bottom: 4px;\n",
              "    }\n",
              "\n",
              "    [theme=dark] .colab-df-convert {\n",
              "      background-color: #3B4455;\n",
              "      fill: #D2E3FC;\n",
              "    }\n",
              "\n",
              "    [theme=dark] .colab-df-convert:hover {\n",
              "      background-color: #434B5C;\n",
              "      box-shadow: 0px 1px 3px 1px rgba(0, 0, 0, 0.15);\n",
              "      filter: drop-shadow(0px 1px 2px rgba(0, 0, 0, 0.3));\n",
              "      fill: #FFFFFF;\n",
              "    }\n",
              "  </style>\n",
              "\n",
              "    <script>\n",
              "      const buttonEl =\n",
              "        document.querySelector('#df-50076f35-6c93-4590-8344-a973b04cd66b button.colab-df-convert');\n",
              "      buttonEl.style.display =\n",
              "        google.colab.kernel.accessAllowed ? 'block' : 'none';\n",
              "\n",
              "      async function convertToInteractive(key) {\n",
              "        const element = document.querySelector('#df-50076f35-6c93-4590-8344-a973b04cd66b');\n",
              "        const dataTable =\n",
              "          await google.colab.kernel.invokeFunction('convertToInteractive',\n",
              "                                                    [key], {});\n",
              "        if (!dataTable) return;\n",
              "\n",
              "        const docLinkHtml = 'Like what you see? Visit the ' +\n",
              "          '<a target=\"_blank\" href=https://colab.research.google.com/notebooks/data_table.ipynb>data table notebook</a>'\n",
              "          + ' to learn more about interactive tables.';\n",
              "        element.innerHTML = '';\n",
              "        dataTable['output_type'] = 'display_data';\n",
              "        await google.colab.output.renderOutput(dataTable, element);\n",
              "        const docLink = document.createElement('div');\n",
              "        docLink.innerHTML = docLinkHtml;\n",
              "        element.appendChild(docLink);\n",
              "      }\n",
              "    </script>\n",
              "  </div>\n",
              "\n",
              "\n",
              "    <div id=\"df-ca0ef39c-3c91-416f-803b-2618141cc079\">\n",
              "      <button class=\"colab-df-quickchart\" onclick=\"quickchart('df-ca0ef39c-3c91-416f-803b-2618141cc079')\"\n",
              "                title=\"Suggest charts\"\n",
              "                style=\"display:none;\">\n",
              "\n",
              "<svg xmlns=\"http://www.w3.org/2000/svg\" height=\"24px\"viewBox=\"0 0 24 24\"\n",
              "     width=\"24px\">\n",
              "    <g>\n",
              "        <path d=\"M19 3H5c-1.1 0-2 .9-2 2v14c0 1.1.9 2 2 2h14c1.1 0 2-.9 2-2V5c0-1.1-.9-2-2-2zM9 17H7v-7h2v7zm4 0h-2V7h2v10zm4 0h-2v-4h2v4z\"/>\n",
              "    </g>\n",
              "</svg>\n",
              "      </button>\n",
              "\n",
              "<style>\n",
              "  .colab-df-quickchart {\n",
              "      --bg-color: #E8F0FE;\n",
              "      --fill-color: #1967D2;\n",
              "      --hover-bg-color: #E2EBFA;\n",
              "      --hover-fill-color: #174EA6;\n",
              "      --disabled-fill-color: #AAA;\n",
              "      --disabled-bg-color: #DDD;\n",
              "  }\n",
              "\n",
              "  [theme=dark] .colab-df-quickchart {\n",
              "      --bg-color: #3B4455;\n",
              "      --fill-color: #D2E3FC;\n",
              "      --hover-bg-color: #434B5C;\n",
              "      --hover-fill-color: #FFFFFF;\n",
              "      --disabled-bg-color: #3B4455;\n",
              "      --disabled-fill-color: #666;\n",
              "  }\n",
              "\n",
              "  .colab-df-quickchart {\n",
              "    background-color: var(--bg-color);\n",
              "    border: none;\n",
              "    border-radius: 50%;\n",
              "    cursor: pointer;\n",
              "    display: none;\n",
              "    fill: var(--fill-color);\n",
              "    height: 32px;\n",
              "    padding: 0;\n",
              "    width: 32px;\n",
              "  }\n",
              "\n",
              "  .colab-df-quickchart:hover {\n",
              "    background-color: var(--hover-bg-color);\n",
              "    box-shadow: 0 1px 2px rgba(60, 64, 67, 0.3), 0 1px 3px 1px rgba(60, 64, 67, 0.15);\n",
              "    fill: var(--button-hover-fill-color);\n",
              "  }\n",
              "\n",
              "  .colab-df-quickchart-complete:disabled,\n",
              "  .colab-df-quickchart-complete:disabled:hover {\n",
              "    background-color: var(--disabled-bg-color);\n",
              "    fill: var(--disabled-fill-color);\n",
              "    box-shadow: none;\n",
              "  }\n",
              "\n",
              "  .colab-df-spinner {\n",
              "    border: 2px solid var(--fill-color);\n",
              "    border-color: transparent;\n",
              "    border-bottom-color: var(--fill-color);\n",
              "    animation:\n",
              "      spin 1s steps(1) infinite;\n",
              "  }\n",
              "\n",
              "  @keyframes spin {\n",
              "    0% {\n",
              "      border-color: transparent;\n",
              "      border-bottom-color: var(--fill-color);\n",
              "      border-left-color: var(--fill-color);\n",
              "    }\n",
              "    20% {\n",
              "      border-color: transparent;\n",
              "      border-left-color: var(--fill-color);\n",
              "      border-top-color: var(--fill-color);\n",
              "    }\n",
              "    30% {\n",
              "      border-color: transparent;\n",
              "      border-left-color: var(--fill-color);\n",
              "      border-top-color: var(--fill-color);\n",
              "      border-right-color: var(--fill-color);\n",
              "    }\n",
              "    40% {\n",
              "      border-color: transparent;\n",
              "      border-right-color: var(--fill-color);\n",
              "      border-top-color: var(--fill-color);\n",
              "    }\n",
              "    60% {\n",
              "      border-color: transparent;\n",
              "      border-right-color: var(--fill-color);\n",
              "    }\n",
              "    80% {\n",
              "      border-color: transparent;\n",
              "      border-right-color: var(--fill-color);\n",
              "      border-bottom-color: var(--fill-color);\n",
              "    }\n",
              "    90% {\n",
              "      border-color: transparent;\n",
              "      border-bottom-color: var(--fill-color);\n",
              "    }\n",
              "  }\n",
              "</style>\n",
              "\n",
              "      <script>\n",
              "        async function quickchart(key) {\n",
              "          const quickchartButtonEl =\n",
              "            document.querySelector('#' + key + ' button');\n",
              "          quickchartButtonEl.disabled = true;  // To prevent multiple clicks.\n",
              "          quickchartButtonEl.classList.add('colab-df-spinner');\n",
              "          try {\n",
              "            const charts = await google.colab.kernel.invokeFunction(\n",
              "                'suggestCharts', [key], {});\n",
              "          } catch (error) {\n",
              "            console.error('Error during call to suggestCharts:', error);\n",
              "          }\n",
              "          quickchartButtonEl.classList.remove('colab-df-spinner');\n",
              "          quickchartButtonEl.classList.add('colab-df-quickchart-complete');\n",
              "        }\n",
              "        (() => {\n",
              "          let quickchartButtonEl =\n",
              "            document.querySelector('#df-ca0ef39c-3c91-416f-803b-2618141cc079 button');\n",
              "          quickchartButtonEl.style.display =\n",
              "            google.colab.kernel.accessAllowed ? 'block' : 'none';\n",
              "        })();\n",
              "      </script>\n",
              "    </div>\n",
              "\n",
              "    </div>\n",
              "  </div>\n"
            ],
            "application/vnd.google.colaboratory.intrinsic+json": {
              "type": "dataframe",
              "variable_name": "monogramas_cifrado_4",
              "summary": "{\n  \"name\": \"monogramas_cifrado_4\",\n  \"rows\": 25,\n  \"fields\": [\n    {\n      \"column\": \"ngramas\",\n      \"properties\": {\n        \"dtype\": \"string\",\n        \"num_unique_values\": 25,\n        \"samples\": [\n          \"K\",\n          \"E\",\n          \"H\"\n        ],\n        \"semantic_type\": \"\",\n        \"description\": \"\"\n      }\n    },\n    {\n      \"column\": \"frecuencia\",\n      \"properties\": {\n        \"dtype\": \"number\",\n        \"std\": 185,\n        \"min\": 1,\n        \"max\": 654,\n        \"num_unique_values\": 24,\n        \"samples\": [\n          238,\n          43,\n          654\n        ],\n        \"semantic_type\": \"\",\n        \"description\": \"\"\n      }\n    }\n  ]\n}"
            }
          },
          "metadata": {},
          "execution_count": 25
        }
      ]
    },
    {
      "cell_type": "code",
      "source": [
        "texto_plano_4 = \"\"\n",
        "\n",
        "for i in range(3, len(texto_plano), 4):\n",
        "    texto_plano_4 += texto_plano[i]\n",
        "\n",
        "texto_plano_4"
      ],
      "metadata": {
        "colab": {
          "base_uri": "https://localhost:8080/",
          "height": 122
        },
        "id": "TAizfWMbU2fT",
        "outputId": "1ceea867-b70a-4b09-af05-9cc2c569c03d"
      },
      "execution_count": 26,
      "outputs": [
        {
          "output_type": "execute_result",
          "data": {
            "text/plain": [
              "'eoltaenethnpioidtapdosaaaoaiambdpleaisaposputsarvegsijidsisiasdagulntsedpdensresreEmelroyaorVsosaoosrsinícoosesshorpdlnunrlcdgsusaecapauaosbuenaadcaabeardnalydnrsaqiisvneaipoaeiíllrodEmEgresilriuoedsnofsaiongdououiosonleeteadbaohtardusájemelutnarVaabsusmardeceplorasiaolasaianrarsúancíanabliduaqrmbvnibdlrnnomsttssboapaacsrehiseqaouiysaalprbddalpuslaslqlideproírípsnyucsdteeataaapiistpiadslivoetisnoontcbedmdteaDnooaqtreetenaeaaoRlsdhauoioaoietbomdsosjaaecboceyratrerVaaSittcedctdrsurmancadcernónnegoeoudonmopecllsahosodcaoldiannSeolerómeoluedtaseliaeaagesisdodealeretóclpaipooeasaceafabibltltáañsaeinadreudesípaemdaaavuájseaslnuialsaaseuníraardrRacqoísulalíuriaysmtePencneiisodaalqraedsóOeedsasasaooernomcsmielnclttrseooieeouueetlafiunabsornSsoorcdeoetreveolcdspaesaeaajeíreuaiznlmnobbarrehaiiylananeorfdrlslohóolralthnaqlcansperotpesaapzcplnrecrsspecolcdseaeqnísessasrerneulabmnhdsemssoisíooansdydsespasossrcaelbqncemnoelmeqcdanesoeOelogamtnlontapcstilreleapioarsncsmenmrlyuuaosaniuodsesoouvacdnatreuiogaancdlaemuasaiaeuaabnoosmasapooeanararñrzseeeaumbcscmnlsueeale'"
            ],
            "application/vnd.google.colaboratory.intrinsic+json": {
              "type": "string"
            }
          },
          "metadata": {},
          "execution_count": 26
        }
      ]
    },
    {
      "cell_type": "markdown",
      "source": [
        "# Monograma Español"
      ],
      "metadata": {
        "id": "EPzBRdnCWxUa"
      }
    },
    {
      "cell_type": "code",
      "source": [
        "monogramas_es = leer_frecuencias(\"spanish_monograms.txt\")\n",
        "monogramas_es.head(10)"
      ],
      "metadata": {
        "colab": {
          "base_uri": "https://localhost:8080/",
          "height": 363
        },
        "id": "Bd_nsYP9W1M6",
        "outputId": "294f41d9-3dc9-4d54-b486-8688e554059f"
      },
      "execution_count": 27,
      "outputs": [
        {
          "output_type": "execute_result",
          "data": {
            "text/plain": [
              "  letra  frecuencia\n",
              "0     E    10912000\n",
              "1     A    10301872\n",
              "2     O     7398419\n",
              "3     S     6128524\n",
              "4     N     5838540\n",
              "5     I     5694616\n",
              "6     R     5450913\n",
              "7     L     4808679\n",
              "8     D     4237020\n",
              "9     C     3648080"
            ],
            "text/html": [
              "\n",
              "  <div id=\"df-32ef0e7e-c64d-4b38-8e52-14d5cfc2110c\" class=\"colab-df-container\">\n",
              "    <div>\n",
              "<style scoped>\n",
              "    .dataframe tbody tr th:only-of-type {\n",
              "        vertical-align: middle;\n",
              "    }\n",
              "\n",
              "    .dataframe tbody tr th {\n",
              "        vertical-align: top;\n",
              "    }\n",
              "\n",
              "    .dataframe thead th {\n",
              "        text-align: right;\n",
              "    }\n",
              "</style>\n",
              "<table border=\"1\" class=\"dataframe\">\n",
              "  <thead>\n",
              "    <tr style=\"text-align: right;\">\n",
              "      <th></th>\n",
              "      <th>letra</th>\n",
              "      <th>frecuencia</th>\n",
              "    </tr>\n",
              "  </thead>\n",
              "  <tbody>\n",
              "    <tr>\n",
              "      <th>0</th>\n",
              "      <td>E</td>\n",
              "      <td>10912000</td>\n",
              "    </tr>\n",
              "    <tr>\n",
              "      <th>1</th>\n",
              "      <td>A</td>\n",
              "      <td>10301872</td>\n",
              "    </tr>\n",
              "    <tr>\n",
              "      <th>2</th>\n",
              "      <td>O</td>\n",
              "      <td>7398419</td>\n",
              "    </tr>\n",
              "    <tr>\n",
              "      <th>3</th>\n",
              "      <td>S</td>\n",
              "      <td>6128524</td>\n",
              "    </tr>\n",
              "    <tr>\n",
              "      <th>4</th>\n",
              "      <td>N</td>\n",
              "      <td>5838540</td>\n",
              "    </tr>\n",
              "    <tr>\n",
              "      <th>5</th>\n",
              "      <td>I</td>\n",
              "      <td>5694616</td>\n",
              "    </tr>\n",
              "    <tr>\n",
              "      <th>6</th>\n",
              "      <td>R</td>\n",
              "      <td>5450913</td>\n",
              "    </tr>\n",
              "    <tr>\n",
              "      <th>7</th>\n",
              "      <td>L</td>\n",
              "      <td>4808679</td>\n",
              "    </tr>\n",
              "    <tr>\n",
              "      <th>8</th>\n",
              "      <td>D</td>\n",
              "      <td>4237020</td>\n",
              "    </tr>\n",
              "    <tr>\n",
              "      <th>9</th>\n",
              "      <td>C</td>\n",
              "      <td>3648080</td>\n",
              "    </tr>\n",
              "  </tbody>\n",
              "</table>\n",
              "</div>\n",
              "    <div class=\"colab-df-buttons\">\n",
              "\n",
              "  <div class=\"colab-df-container\">\n",
              "    <button class=\"colab-df-convert\" onclick=\"convertToInteractive('df-32ef0e7e-c64d-4b38-8e52-14d5cfc2110c')\"\n",
              "            title=\"Convert this dataframe to an interactive table.\"\n",
              "            style=\"display:none;\">\n",
              "\n",
              "  <svg xmlns=\"http://www.w3.org/2000/svg\" height=\"24px\" viewBox=\"0 -960 960 960\">\n",
              "    <path d=\"M120-120v-720h720v720H120Zm60-500h600v-160H180v160Zm220 220h160v-160H400v160Zm0 220h160v-160H400v160ZM180-400h160v-160H180v160Zm440 0h160v-160H620v160ZM180-180h160v-160H180v160Zm440 0h160v-160H620v160Z\"/>\n",
              "  </svg>\n",
              "    </button>\n",
              "\n",
              "  <style>\n",
              "    .colab-df-container {\n",
              "      display:flex;\n",
              "      gap: 12px;\n",
              "    }\n",
              "\n",
              "    .colab-df-convert {\n",
              "      background-color: #E8F0FE;\n",
              "      border: none;\n",
              "      border-radius: 50%;\n",
              "      cursor: pointer;\n",
              "      display: none;\n",
              "      fill: #1967D2;\n",
              "      height: 32px;\n",
              "      padding: 0 0 0 0;\n",
              "      width: 32px;\n",
              "    }\n",
              "\n",
              "    .colab-df-convert:hover {\n",
              "      background-color: #E2EBFA;\n",
              "      box-shadow: 0px 1px 2px rgba(60, 64, 67, 0.3), 0px 1px 3px 1px rgba(60, 64, 67, 0.15);\n",
              "      fill: #174EA6;\n",
              "    }\n",
              "\n",
              "    .colab-df-buttons div {\n",
              "      margin-bottom: 4px;\n",
              "    }\n",
              "\n",
              "    [theme=dark] .colab-df-convert {\n",
              "      background-color: #3B4455;\n",
              "      fill: #D2E3FC;\n",
              "    }\n",
              "\n",
              "    [theme=dark] .colab-df-convert:hover {\n",
              "      background-color: #434B5C;\n",
              "      box-shadow: 0px 1px 3px 1px rgba(0, 0, 0, 0.15);\n",
              "      filter: drop-shadow(0px 1px 2px rgba(0, 0, 0, 0.3));\n",
              "      fill: #FFFFFF;\n",
              "    }\n",
              "  </style>\n",
              "\n",
              "    <script>\n",
              "      const buttonEl =\n",
              "        document.querySelector('#df-32ef0e7e-c64d-4b38-8e52-14d5cfc2110c button.colab-df-convert');\n",
              "      buttonEl.style.display =\n",
              "        google.colab.kernel.accessAllowed ? 'block' : 'none';\n",
              "\n",
              "      async function convertToInteractive(key) {\n",
              "        const element = document.querySelector('#df-32ef0e7e-c64d-4b38-8e52-14d5cfc2110c');\n",
              "        const dataTable =\n",
              "          await google.colab.kernel.invokeFunction('convertToInteractive',\n",
              "                                                    [key], {});\n",
              "        if (!dataTable) return;\n",
              "\n",
              "        const docLinkHtml = 'Like what you see? Visit the ' +\n",
              "          '<a target=\"_blank\" href=https://colab.research.google.com/notebooks/data_table.ipynb>data table notebook</a>'\n",
              "          + ' to learn more about interactive tables.';\n",
              "        element.innerHTML = '';\n",
              "        dataTable['output_type'] = 'display_data';\n",
              "        await google.colab.output.renderOutput(dataTable, element);\n",
              "        const docLink = document.createElement('div');\n",
              "        docLink.innerHTML = docLinkHtml;\n",
              "        element.appendChild(docLink);\n",
              "      }\n",
              "    </script>\n",
              "  </div>\n",
              "\n",
              "\n",
              "    <div id=\"df-b98c17b4-ea4d-4176-9787-f5cce62bfdf9\">\n",
              "      <button class=\"colab-df-quickchart\" onclick=\"quickchart('df-b98c17b4-ea4d-4176-9787-f5cce62bfdf9')\"\n",
              "                title=\"Suggest charts\"\n",
              "                style=\"display:none;\">\n",
              "\n",
              "<svg xmlns=\"http://www.w3.org/2000/svg\" height=\"24px\"viewBox=\"0 0 24 24\"\n",
              "     width=\"24px\">\n",
              "    <g>\n",
              "        <path d=\"M19 3H5c-1.1 0-2 .9-2 2v14c0 1.1.9 2 2 2h14c1.1 0 2-.9 2-2V5c0-1.1-.9-2-2-2zM9 17H7v-7h2v7zm4 0h-2V7h2v10zm4 0h-2v-4h2v4z\"/>\n",
              "    </g>\n",
              "</svg>\n",
              "      </button>\n",
              "\n",
              "<style>\n",
              "  .colab-df-quickchart {\n",
              "      --bg-color: #E8F0FE;\n",
              "      --fill-color: #1967D2;\n",
              "      --hover-bg-color: #E2EBFA;\n",
              "      --hover-fill-color: #174EA6;\n",
              "      --disabled-fill-color: #AAA;\n",
              "      --disabled-bg-color: #DDD;\n",
              "  }\n",
              "\n",
              "  [theme=dark] .colab-df-quickchart {\n",
              "      --bg-color: #3B4455;\n",
              "      --fill-color: #D2E3FC;\n",
              "      --hover-bg-color: #434B5C;\n",
              "      --hover-fill-color: #FFFFFF;\n",
              "      --disabled-bg-color: #3B4455;\n",
              "      --disabled-fill-color: #666;\n",
              "  }\n",
              "\n",
              "  .colab-df-quickchart {\n",
              "    background-color: var(--bg-color);\n",
              "    border: none;\n",
              "    border-radius: 50%;\n",
              "    cursor: pointer;\n",
              "    display: none;\n",
              "    fill: var(--fill-color);\n",
              "    height: 32px;\n",
              "    padding: 0;\n",
              "    width: 32px;\n",
              "  }\n",
              "\n",
              "  .colab-df-quickchart:hover {\n",
              "    background-color: var(--hover-bg-color);\n",
              "    box-shadow: 0 1px 2px rgba(60, 64, 67, 0.3), 0 1px 3px 1px rgba(60, 64, 67, 0.15);\n",
              "    fill: var(--button-hover-fill-color);\n",
              "  }\n",
              "\n",
              "  .colab-df-quickchart-complete:disabled,\n",
              "  .colab-df-quickchart-complete:disabled:hover {\n",
              "    background-color: var(--disabled-bg-color);\n",
              "    fill: var(--disabled-fill-color);\n",
              "    box-shadow: none;\n",
              "  }\n",
              "\n",
              "  .colab-df-spinner {\n",
              "    border: 2px solid var(--fill-color);\n",
              "    border-color: transparent;\n",
              "    border-bottom-color: var(--fill-color);\n",
              "    animation:\n",
              "      spin 1s steps(1) infinite;\n",
              "  }\n",
              "\n",
              "  @keyframes spin {\n",
              "    0% {\n",
              "      border-color: transparent;\n",
              "      border-bottom-color: var(--fill-color);\n",
              "      border-left-color: var(--fill-color);\n",
              "    }\n",
              "    20% {\n",
              "      border-color: transparent;\n",
              "      border-left-color: var(--fill-color);\n",
              "      border-top-color: var(--fill-color);\n",
              "    }\n",
              "    30% {\n",
              "      border-color: transparent;\n",
              "      border-left-color: var(--fill-color);\n",
              "      border-top-color: var(--fill-color);\n",
              "      border-right-color: var(--fill-color);\n",
              "    }\n",
              "    40% {\n",
              "      border-color: transparent;\n",
              "      border-right-color: var(--fill-color);\n",
              "      border-top-color: var(--fill-color);\n",
              "    }\n",
              "    60% {\n",
              "      border-color: transparent;\n",
              "      border-right-color: var(--fill-color);\n",
              "    }\n",
              "    80% {\n",
              "      border-color: transparent;\n",
              "      border-right-color: var(--fill-color);\n",
              "      border-bottom-color: var(--fill-color);\n",
              "    }\n",
              "    90% {\n",
              "      border-color: transparent;\n",
              "      border-bottom-color: var(--fill-color);\n",
              "    }\n",
              "  }\n",
              "</style>\n",
              "\n",
              "      <script>\n",
              "        async function quickchart(key) {\n",
              "          const quickchartButtonEl =\n",
              "            document.querySelector('#' + key + ' button');\n",
              "          quickchartButtonEl.disabled = true;  // To prevent multiple clicks.\n",
              "          quickchartButtonEl.classList.add('colab-df-spinner');\n",
              "          try {\n",
              "            const charts = await google.colab.kernel.invokeFunction(\n",
              "                'suggestCharts', [key], {});\n",
              "          } catch (error) {\n",
              "            console.error('Error during call to suggestCharts:', error);\n",
              "          }\n",
              "          quickchartButtonEl.classList.remove('colab-df-spinner');\n",
              "          quickchartButtonEl.classList.add('colab-df-quickchart-complete');\n",
              "        }\n",
              "        (() => {\n",
              "          let quickchartButtonEl =\n",
              "            document.querySelector('#df-b98c17b4-ea4d-4176-9787-f5cce62bfdf9 button');\n",
              "          quickchartButtonEl.style.display =\n",
              "            google.colab.kernel.accessAllowed ? 'block' : 'none';\n",
              "        })();\n",
              "      </script>\n",
              "    </div>\n",
              "\n",
              "    </div>\n",
              "  </div>\n"
            ],
            "application/vnd.google.colaboratory.intrinsic+json": {
              "type": "dataframe",
              "variable_name": "monogramas_es",
              "summary": "{\n  \"name\": \"monogramas_es\",\n  \"rows\": 27,\n  \"fields\": [\n    {\n      \"column\": \"letra\",\n      \"properties\": {\n        \"dtype\": \"string\",\n        \"num_unique_values\": 27,\n        \"samples\": [\n          \"D\",\n          \"M\",\n          \"C\"\n        ],\n        \"semantic_type\": \"\",\n        \"description\": \"\"\n      }\n    },\n    {\n      \"column\": \"frecuencia\",\n      \"properties\": {\n        \"dtype\": \"number\",\n        \"std\": 3133718,\n        \"min\": 26492,\n        \"max\": 10912000,\n        \"num_unique_values\": 27,\n        \"samples\": [\n          4237020,\n          2152702,\n          3648080\n        ],\n        \"semantic_type\": \"\",\n        \"description\": \"\"\n      }\n    }\n  ]\n}"
            }
          },
          "metadata": {},
          "execution_count": 27
        }
      ]
    },
    {
      "cell_type": "markdown",
      "source": [
        "# Analisis Primera Palabra"
      ],
      "metadata": {
        "id": "YTT5j04UWPhy"
      }
    },
    {
      "cell_type": "code",
      "source": [
        "indice_1_1 = texto_cifrado_1.index('H')\n",
        "texto_plano_1[indice_1_1]"
      ],
      "metadata": {
        "colab": {
          "base_uri": "https://localhost:8080/",
          "height": 35
        },
        "id": "KnwfSpH8sgmX",
        "outputId": "7751e7b9-6967-4b89-b082-1642b9d1fdf0"
      },
      "execution_count": 29,
      "outputs": [
        {
          "output_type": "execute_result",
          "data": {
            "text/plain": [
              "'A'"
            ],
            "application/vnd.google.colaboratory.intrinsic+json": {
              "type": "string"
            }
          },
          "metadata": {},
          "execution_count": 29
        }
      ]
    },
    {
      "cell_type": "code",
      "source": [
        "indice_1_2 = texto_cifrado_1.index('L')\n",
        "texto_plano_1[indice_1_2]"
      ],
      "metadata": {
        "colab": {
          "base_uri": "https://localhost:8080/",
          "height": 35
        },
        "id": "sErEZVYtsgjf",
        "outputId": "d4106fa5-de69-420d-b5fb-c8b7812eabb3"
      },
      "execution_count": 30,
      "outputs": [
        {
          "output_type": "execute_result",
          "data": {
            "text/plain": [
              "'e'"
            ],
            "application/vnd.google.colaboratory.intrinsic+json": {
              "type": "string"
            }
          },
          "metadata": {},
          "execution_count": 30
        }
      ]
    },
    {
      "cell_type": "code",
      "source": [
        "indice_1_3 = texto_cifrado_1.index('X')\n",
        "texto_plano_1[indice_1_3]"
      ],
      "metadata": {
        "colab": {
          "base_uri": "https://localhost:8080/",
          "height": 35
        },
        "id": "0OhXsyIXviqK",
        "outputId": "a1d0e7c2-c90e-4a25-bafc-0b533b9bf86c"
      },
      "execution_count": 31,
      "outputs": [
        {
          "output_type": "execute_result",
          "data": {
            "text/plain": [
              "'o'"
            ],
            "application/vnd.google.colaboratory.intrinsic+json": {
              "type": "string"
            }
          },
          "metadata": {},
          "execution_count": 31
        }
      ]
    },
    {
      "cell_type": "code",
      "source": [
        "indice_1_4 = texto_cifrado_1.index('V')\n",
        "texto_plano_1[indice_1_4]"
      ],
      "metadata": {
        "colab": {
          "base_uri": "https://localhost:8080/",
          "height": 35
        },
        "id": "D1JHfQE_vinZ",
        "outputId": "26460b11-ee83-4797-901d-c740cdc7f3f5"
      },
      "execution_count": 32,
      "outputs": [
        {
          "output_type": "execute_result",
          "data": {
            "text/plain": [
              "'s'"
            ],
            "application/vnd.google.colaboratory.intrinsic+json": {
              "type": "string"
            }
          },
          "metadata": {},
          "execution_count": 32
        }
      ]
    },
    {
      "cell_type": "code",
      "source": [
        "indice_1_5 = texto_cifrado_1.index('F')\n",
        "texto_plano_1[indice_1_5]"
      ],
      "metadata": {
        "colab": {
          "base_uri": "https://localhost:8080/",
          "height": 35
        },
        "id": "r53diASgvij4",
        "outputId": "a04de252-4e7f-4bc4-9f00-2da1c84e74d9"
      },
      "execution_count": 33,
      "outputs": [
        {
          "output_type": "execute_result",
          "data": {
            "text/plain": [
              "'n'"
            ],
            "application/vnd.google.colaboratory.intrinsic+json": {
              "type": "string"
            }
          },
          "metadata": {},
          "execution_count": 33
        }
      ]
    },
    {
      "cell_type": "code",
      "source": [
        "indice_1_6 = texto_cifrado_1.index('G')\n",
        "texto_plano_1[indice_1_6]"
      ],
      "metadata": {
        "colab": {
          "base_uri": "https://localhost:8080/",
          "height": 35
        },
        "id": "br4qoy38vibB",
        "outputId": "54762156-f60b-4249-f7cf-bf55c0718577"
      },
      "execution_count": 34,
      "outputs": [
        {
          "output_type": "execute_result",
          "data": {
            "text/plain": [
              "'r'"
            ],
            "application/vnd.google.colaboratory.intrinsic+json": {
              "type": "string"
            }
          },
          "metadata": {},
          "execution_count": 34
        }
      ]
    },
    {
      "cell_type": "code",
      "source": [
        "indice_1_7 = texto_cifrado_1.index('T')\n",
        "texto_plano_1[indice_1_6]"
      ],
      "metadata": {
        "colab": {
          "base_uri": "https://localhost:8080/",
          "height": 35
        },
        "id": "S-e7__AIvsaI",
        "outputId": "a0a67599-7da6-49d5-f54a-df18878ee352"
      },
      "execution_count": 35,
      "outputs": [
        {
          "output_type": "execute_result",
          "data": {
            "text/plain": [
              "'r'"
            ],
            "application/vnd.google.colaboratory.intrinsic+json": {
              "type": "string"
            }
          },
          "metadata": {},
          "execution_count": 35
        }
      ]
    },
    {
      "cell_type": "code",
      "source": [
        "indice_1_8 = texto_cifrado_1.index('U')\n",
        "texto_plano_1[indice_1_6]"
      ],
      "metadata": {
        "colab": {
          "base_uri": "https://localhost:8080/",
          "height": 35
        },
        "id": "WqGdX1ewvsUo",
        "outputId": "98cbc079-bb9f-4162-88ca-a21c44839b83"
      },
      "execution_count": 36,
      "outputs": [
        {
          "output_type": "execute_result",
          "data": {
            "text/plain": [
              "'r'"
            ],
            "application/vnd.google.colaboratory.intrinsic+json": {
              "type": "string"
            }
          },
          "metadata": {},
          "execution_count": 36
        }
      ]
    },
    {
      "cell_type": "code",
      "source": [
        "indice_1_9 = texto_cifrado_1.index('K')\n",
        "texto_plano_1[indice_1_7]"
      ],
      "metadata": {
        "colab": {
          "base_uri": "https://localhost:8080/",
          "height": 35
        },
        "id": "KdUgoyc5vsJA",
        "outputId": "ebe85040-1401-4af1-aff8-0d17344b21cb"
      },
      "execution_count": 37,
      "outputs": [
        {
          "output_type": "execute_result",
          "data": {
            "text/plain": [
              "'í'"
            ],
            "application/vnd.google.colaboratory.intrinsic+json": {
              "type": "string"
            }
          },
          "metadata": {},
          "execution_count": 37
        }
      ]
    },
    {
      "cell_type": "code",
      "source": [
        "indice_1_10 = texto_cifrado_1.index('A')\n",
        "texto_plano_1[indice_1_8]"
      ],
      "metadata": {
        "colab": {
          "base_uri": "https://localhost:8080/",
          "height": 35
        },
        "id": "yZe_0FeTvzRo",
        "outputId": "86e3c85a-77e9-4b95-b92a-b5d8fc2b8138"
      },
      "execution_count": 38,
      "outputs": [
        {
          "output_type": "execute_result",
          "data": {
            "text/plain": [
              "'l'"
            ],
            "application/vnd.google.colaboratory.intrinsic+json": {
              "type": "string"
            }
          },
          "metadata": {},
          "execution_count": 38
        }
      ]
    },
    {
      "cell_type": "markdown",
      "source": [
        "# Analisis Segunda Palabra"
      ],
      "metadata": {
        "id": "_ivBjdRuW6wC"
      }
    },
    {
      "cell_type": "code",
      "source": [
        "indice_2_1 = texto_cifrado_2.index('H')\n",
        "texto_plano_2[indice_2_1]"
      ],
      "metadata": {
        "colab": {
          "base_uri": "https://localhost:8080/",
          "height": 35
        },
        "id": "4G5Zy93TXEIy",
        "outputId": "c115e3da-4563-4f09-ed43-19425ccc728a"
      },
      "execution_count": 50,
      "outputs": [
        {
          "output_type": "execute_result",
          "data": {
            "text/plain": [
              "'a'"
            ],
            "application/vnd.google.colaboratory.intrinsic+json": {
              "type": "string"
            }
          },
          "metadata": {},
          "execution_count": 50
        }
      ]
    },
    {
      "cell_type": "code",
      "source": [
        "indice_2_2 = texto_cifrado_2.index('L')\n",
        "texto_plano_2[indice_2_2]"
      ],
      "metadata": {
        "colab": {
          "base_uri": "https://localhost:8080/",
          "height": 35
        },
        "id": "jF4CogWrXfs6",
        "outputId": "f7d8f96d-00da-4b5a-8d07-97423316ccd2"
      },
      "execution_count": 51,
      "outputs": [
        {
          "output_type": "execute_result",
          "data": {
            "text/plain": [
              "'e'"
            ],
            "application/vnd.google.colaboratory.intrinsic+json": {
              "type": "string"
            }
          },
          "metadata": {},
          "execution_count": 51
        }
      ]
    },
    {
      "cell_type": "code",
      "source": [
        "indice_2_3 = texto_cifrado_2.index('X')\n",
        "texto_plano_2[indice_2_3]"
      ],
      "metadata": {
        "colab": {
          "base_uri": "https://localhost:8080/",
          "height": 35
        },
        "id": "gmjxvbDvXtRq",
        "outputId": "0b566cea-7104-44d9-8378-bfa1782ca688"
      },
      "execution_count": 52,
      "outputs": [
        {
          "output_type": "execute_result",
          "data": {
            "text/plain": [
              "'o'"
            ],
            "application/vnd.google.colaboratory.intrinsic+json": {
              "type": "string"
            }
          },
          "metadata": {},
          "execution_count": 52
        }
      ]
    },
    {
      "cell_type": "code",
      "source": [
        "indice_2_4 = texto_cifrado_2.index('V')\n",
        "texto_plano_2[indice_2_4]"
      ],
      "metadata": {
        "colab": {
          "base_uri": "https://localhost:8080/",
          "height": 35
        },
        "id": "C81Vl6nnXtsK",
        "outputId": "5e1c142b-3fd2-4583-ec91-6666f9a4a023"
      },
      "execution_count": 53,
      "outputs": [
        {
          "output_type": "execute_result",
          "data": {
            "text/plain": [
              "'s'"
            ],
            "application/vnd.google.colaboratory.intrinsic+json": {
              "type": "string"
            }
          },
          "metadata": {},
          "execution_count": 53
        }
      ]
    },
    {
      "cell_type": "code",
      "source": [
        "indice_2_5 = texto_cifrado_2.index('G')\n",
        "texto_plano_2[indice_2_5]"
      ],
      "metadata": {
        "colab": {
          "base_uri": "https://localhost:8080/",
          "height": 35
        },
        "id": "ZYdgFANnXuPi",
        "outputId": "f9f168b2-f833-441e-b490-20f8304c3a6b"
      },
      "execution_count": 54,
      "outputs": [
        {
          "output_type": "execute_result",
          "data": {
            "text/plain": [
              "'r'"
            ],
            "application/vnd.google.colaboratory.intrinsic+json": {
              "type": "string"
            }
          },
          "metadata": {},
          "execution_count": 54
        }
      ]
    },
    {
      "cell_type": "code",
      "source": [
        "indice_2_6 = texto_cifrado_2.index('U')\n",
        "texto_plano_2[indice_2_6]"
      ],
      "metadata": {
        "colab": {
          "base_uri": "https://localhost:8080/",
          "height": 35
        },
        "id": "Gq-KxlgtXv56",
        "outputId": "044c89de-775a-4f73-de78-263c164193d8"
      },
      "execution_count": 55,
      "outputs": [
        {
          "output_type": "execute_result",
          "data": {
            "text/plain": [
              "'l'"
            ],
            "application/vnd.google.colaboratory.intrinsic+json": {
              "type": "string"
            }
          },
          "metadata": {},
          "execution_count": 55
        }
      ]
    },
    {
      "cell_type": "code",
      "source": [
        "indice_2_7 = texto_cifrado_2.index('F')\n",
        "texto_plano_2[indice_2_7]"
      ],
      "metadata": {
        "colab": {
          "base_uri": "https://localhost:8080/",
          "height": 35
        },
        "id": "i9BvTWpFXviy",
        "outputId": "3802b4a4-594d-41a6-9d8b-39401e1a2710"
      },
      "execution_count": 56,
      "outputs": [
        {
          "output_type": "execute_result",
          "data": {
            "text/plain": [
              "'n'"
            ],
            "application/vnd.google.colaboratory.intrinsic+json": {
              "type": "string"
            }
          },
          "metadata": {},
          "execution_count": 56
        }
      ]
    },
    {
      "cell_type": "code",
      "source": [
        "indice_2_8 = texto_cifrado_2.index('T')\n",
        "texto_plano_2[indice_2_8]"
      ],
      "metadata": {
        "colab": {
          "base_uri": "https://localhost:8080/",
          "height": 35
        },
        "id": "j3ONvQQOXvTi",
        "outputId": "2028fef2-7372-4b61-f019-5be938f6a52b"
      },
      "execution_count": 57,
      "outputs": [
        {
          "output_type": "execute_result",
          "data": {
            "text/plain": [
              "'í'"
            ],
            "application/vnd.google.colaboratory.intrinsic+json": {
              "type": "string"
            }
          },
          "metadata": {},
          "execution_count": 57
        }
      ]
    },
    {
      "cell_type": "code",
      "source": [
        "indice_2_9 = texto_cifrado_2.index('K')\n",
        "texto_plano_2[indice_2_9]"
      ],
      "metadata": {
        "colab": {
          "base_uri": "https://localhost:8080/",
          "height": 35
        },
        "id": "7C9BrgVzXvCq",
        "outputId": "8ee237cb-4153-49ca-a927-b6c77e2b3877"
      },
      "execution_count": 58,
      "outputs": [
        {
          "output_type": "execute_result",
          "data": {
            "text/plain": [
              "'d'"
            ],
            "application/vnd.google.colaboratory.intrinsic+json": {
              "type": "string"
            }
          },
          "metadata": {},
          "execution_count": 58
        }
      ]
    },
    {
      "cell_type": "code",
      "source": [
        "indice_2_10 = texto_cifrado_2.index('')\n",
        "texto_plano_2[indice_2_10]"
      ],
      "metadata": {
        "colab": {
          "base_uri": "https://localhost:8080/",
          "height": 35
        },
        "id": "NGRiacx0Xu0y",
        "outputId": "044489ab-6626-4b62-e688-3dc87d412d51"
      },
      "execution_count": 59,
      "outputs": [
        {
          "output_type": "execute_result",
          "data": {
            "text/plain": [
              "'c'"
            ],
            "application/vnd.google.colaboratory.intrinsic+json": {
              "type": "string"
            }
          },
          "metadata": {},
          "execution_count": 59
        }
      ]
    },
    {
      "cell_type": "markdown",
      "source": [
        "# Analisis Tercera Palabra"
      ],
      "metadata": {
        "id": "YcR7V3ZTdM1R"
      }
    },
    {
      "cell_type": "code",
      "source": [
        "indice_3_1 = texto_cifrado_3.index('H')\n",
        "texto_plano_3[indice_3_1]"
      ],
      "metadata": {
        "colab": {
          "base_uri": "https://localhost:8080/",
          "height": 35
        },
        "id": "TJbq75woepbZ",
        "outputId": "0fb110d0-3f09-4f7d-9102-43c87f522ff1"
      },
      "execution_count": 60,
      "outputs": [
        {
          "output_type": "execute_result",
          "data": {
            "text/plain": [
              "'a'"
            ],
            "application/vnd.google.colaboratory.intrinsic+json": {
              "type": "string"
            }
          },
          "metadata": {},
          "execution_count": 60
        }
      ]
    },
    {
      "cell_type": "code",
      "source": [
        "indice_3_2 = texto_cifrado_3.index('L')\n",
        "texto_plano_3[indice_3_2]"
      ],
      "metadata": {
        "colab": {
          "base_uri": "https://localhost:8080/",
          "height": 35
        },
        "id": "3aXKgUoFfk8B",
        "outputId": "dc94f645-2f84-4088-cddd-64662016965d"
      },
      "execution_count": 61,
      "outputs": [
        {
          "output_type": "execute_result",
          "data": {
            "text/plain": [
              "'e'"
            ],
            "application/vnd.google.colaboratory.intrinsic+json": {
              "type": "string"
            }
          },
          "metadata": {},
          "execution_count": 61
        }
      ]
    },
    {
      "cell_type": "code",
      "source": [
        "indice_3_3 = texto_cifrado_3.index('K')\n",
        "texto_plano_3[indice_3_3]"
      ],
      "metadata": {
        "colab": {
          "base_uri": "https://localhost:8080/",
          "height": 35
        },
        "id": "eZCArzJ1fk3Z",
        "outputId": "627e20d7-c21d-4338-87e5-d9c89ad5603d"
      },
      "execution_count": 62,
      "outputs": [
        {
          "output_type": "execute_result",
          "data": {
            "text/plain": [
              "'d'"
            ],
            "application/vnd.google.colaboratory.intrinsic+json": {
              "type": "string"
            }
          },
          "metadata": {},
          "execution_count": 62
        }
      ]
    },
    {
      "cell_type": "code",
      "source": [
        "indice_3_4 = texto_cifrado_3.index('V')\n",
        "texto_plano_3[indice_3_4]"
      ],
      "metadata": {
        "colab": {
          "base_uri": "https://localhost:8080/",
          "height": 35
        },
        "id": "oTi3aIsofkxZ",
        "outputId": "ad2f1a46-bd5a-40e3-df1b-a273387d20e6"
      },
      "execution_count": 63,
      "outputs": [
        {
          "output_type": "execute_result",
          "data": {
            "text/plain": [
              "'s'"
            ],
            "application/vnd.google.colaboratory.intrinsic+json": {
              "type": "string"
            }
          },
          "metadata": {},
          "execution_count": 63
        }
      ]
    },
    {
      "cell_type": "code",
      "source": [
        "indice_3_5 = texto_cifrado_3.index('U')\n",
        "texto_plano_3[indice_3_5]"
      ],
      "metadata": {
        "colab": {
          "base_uri": "https://localhost:8080/",
          "height": 35
        },
        "id": "3Y3XLQlCfkqh",
        "outputId": "ff7e47f5-5e69-4727-d95c-8f1f8cb4d21e"
      },
      "execution_count": 64,
      "outputs": [
        {
          "output_type": "execute_result",
          "data": {
            "text/plain": [
              "'l'"
            ],
            "application/vnd.google.colaboratory.intrinsic+json": {
              "type": "string"
            }
          },
          "metadata": {},
          "execution_count": 64
        }
      ]
    },
    {
      "cell_type": "code",
      "source": [
        "indice_3_6 = texto_cifrado_3.index('G')\n",
        "texto_plano_3[indice_3_6]"
      ],
      "metadata": {
        "colab": {
          "base_uri": "https://localhost:8080/",
          "height": 35
        },
        "id": "YlP4Dj38fkjp",
        "outputId": "2665cbcd-cc4f-49f2-f6f2-2f4becec54cd"
      },
      "execution_count": 65,
      "outputs": [
        {
          "output_type": "execute_result",
          "data": {
            "text/plain": [
              "'r'"
            ],
            "application/vnd.google.colaboratory.intrinsic+json": {
              "type": "string"
            }
          },
          "metadata": {},
          "execution_count": 65
        }
      ]
    },
    {
      "cell_type": "code",
      "source": [
        "indice_3_7 = texto_cifrado_3.index('F')\n",
        "texto_plano_3[indice_3_7]"
      ],
      "metadata": {
        "colab": {
          "base_uri": "https://localhost:8080/",
          "height": 35
        },
        "id": "PnLWCU5TfkdZ",
        "outputId": "764c04be-7b79-4e90-e47c-f9017b5d6acb"
      },
      "execution_count": 66,
      "outputs": [
        {
          "output_type": "execute_result",
          "data": {
            "text/plain": [
              "'n'"
            ],
            "application/vnd.google.colaboratory.intrinsic+json": {
              "type": "string"
            }
          },
          "metadata": {},
          "execution_count": 66
        }
      ]
    },
    {
      "cell_type": "code",
      "source": [
        "indice_3_8 = texto_cifrado_3.index('T')\n",
        "texto_plano_3[indice_3_8]"
      ],
      "metadata": {
        "colab": {
          "base_uri": "https://localhost:8080/",
          "height": 35
        },
        "id": "WQaBkYLqfj7J",
        "outputId": "f5c6e7a5-f5d8-422c-f416-55e12b67377f"
      },
      "execution_count": 67,
      "outputs": [
        {
          "output_type": "execute_result",
          "data": {
            "text/plain": [
              "'i'"
            ],
            "application/vnd.google.colaboratory.intrinsic+json": {
              "type": "string"
            }
          },
          "metadata": {},
          "execution_count": 67
        }
      ]
    },
    {
      "cell_type": "code",
      "source": [
        "indice_3_9 = texto_cifrado_3.index('K')\n",
        "texto_plano_3[indice_3_9]"
      ],
      "metadata": {
        "colab": {
          "base_uri": "https://localhost:8080/",
          "height": 35
        },
        "id": "wdEuqnEGfjnR",
        "outputId": "9a966622-864d-4560-e458-9af90fd2c5a6"
      },
      "execution_count": 68,
      "outputs": [
        {
          "output_type": "execute_result",
          "data": {
            "text/plain": [
              "'d'"
            ],
            "application/vnd.google.colaboratory.intrinsic+json": {
              "type": "string"
            }
          },
          "metadata": {},
          "execution_count": 68
        }
      ]
    },
    {
      "cell_type": "code",
      "source": [
        "indice_3_10 = texto_cifrado_3.index('C')\n",
        "texto_plano_3[indice_3_10]"
      ],
      "metadata": {
        "colab": {
          "base_uri": "https://localhost:8080/",
          "height": 35
        },
        "id": "xQxhCmNwfjdx",
        "outputId": "21ea7548-dee0-4aa1-f243-9e16ba2bbdbf"
      },
      "execution_count": 69,
      "outputs": [
        {
          "output_type": "execute_result",
          "data": {
            "text/plain": [
              "'t'"
            ],
            "application/vnd.google.colaboratory.intrinsic+json": {
              "type": "string"
            }
          },
          "metadata": {},
          "execution_count": 69
        }
      ]
    },
    {
      "cell_type": "markdown",
      "source": [
        "# Analisis Cuarta Palabra"
      ],
      "metadata": {
        "id": "0Sp7SsMW9EAN"
      }
    },
    {
      "cell_type": "code",
      "source": [
        "indice_4_1 = texto_cifrado_4.index('H')\n",
        "texto_plano_4[indice_4_1]"
      ],
      "metadata": {
        "colab": {
          "base_uri": "https://localhost:8080/",
          "height": 159
        },
        "id": "8aeL0edz9Opc",
        "outputId": "12c25791-164b-4f6a-b0d1-2634045e4e4f"
      },
      "execution_count": 1,
      "outputs": [
        {
          "output_type": "error",
          "ename": "NameError",
          "evalue": "name 'texto_cifrado_4' is not defined",
          "traceback": [
            "\u001b[0;31m---------------------------------------------------------------------------\u001b[0m",
            "\u001b[0;31mNameError\u001b[0m                                 Traceback (most recent call last)",
            "\u001b[0;32m<ipython-input-1-f4877fb0fce3>\u001b[0m in \u001b[0;36m<cell line: 0>\u001b[0;34m()\u001b[0m\n\u001b[0;32m----> 1\u001b[0;31m \u001b[0mindice_4_1\u001b[0m \u001b[0;34m=\u001b[0m \u001b[0mtexto_cifrado_4\u001b[0m\u001b[0;34m.\u001b[0m\u001b[0mindex\u001b[0m\u001b[0;34m(\u001b[0m\u001b[0;34m'H'\u001b[0m\u001b[0;34m)\u001b[0m\u001b[0;34m\u001b[0m\u001b[0;34m\u001b[0m\u001b[0m\n\u001b[0m\u001b[1;32m      2\u001b[0m \u001b[0mtexto_plano_4\u001b[0m\u001b[0;34m[\u001b[0m\u001b[0mindice_4_1\u001b[0m\u001b[0;34m]\u001b[0m\u001b[0;34m\u001b[0m\u001b[0;34m\u001b[0m\u001b[0m\n",
            "\u001b[0;31mNameError\u001b[0m: name 'texto_cifrado_4' is not defined"
          ]
        }
      ]
    },
    {
      "cell_type": "code",
      "source": [
        "indice_4_2 = texto_cifrado_4.index('L')\n",
        "texto_plano_4[indice_4_2]"
      ],
      "metadata": {
        "id": "AAseuhU69TR0"
      },
      "execution_count": null,
      "outputs": []
    },
    {
      "cell_type": "code",
      "source": [
        "indice_4_3 = texto_cifrado_4.index('X')\n",
        "texto_plano_4[indice_4_3]"
      ],
      "metadata": {
        "id": "lziaJUqm9WPM"
      },
      "execution_count": null,
      "outputs": []
    },
    {
      "cell_type": "code",
      "source": [
        "indice_4_4 = texto_cifrado_4.index('V')\n",
        "texto_plano_4[indice_4_4]"
      ],
      "metadata": {
        "id": "v8qbNayC9Xos"
      },
      "execution_count": null,
      "outputs": []
    },
    {
      "cell_type": "code",
      "source": [
        "indice_4_5 = texto_cifrado_4.index('G')\n",
        "texto_plano_4[indice_4_5]"
      ],
      "metadata": {
        "id": "moPnbO3-9ZXk"
      },
      "execution_count": null,
      "outputs": []
    },
    {
      "cell_type": "code",
      "source": [
        "indice_4_6 = texto_cifrado_4.index('F')\n",
        "texto_plano_4[indice_4_6]"
      ],
      "metadata": {
        "id": "_c4EcMQH9bAV"
      },
      "execution_count": null,
      "outputs": []
    },
    {
      "cell_type": "code",
      "source": [
        "indice_4_7 = texto_cifrado_4.index('T')\n",
        "texto_plano_4[indice_4_7]"
      ],
      "metadata": {
        "id": "xql3-2Q_9cxs"
      },
      "execution_count": null,
      "outputs": []
    },
    {
      "cell_type": "code",
      "source": [
        "indice_4_8 = texto_cifrado_4.index('U')\n",
        "texto_plano_4[indice_4_8]"
      ],
      "metadata": {
        "id": "LZW92M9N9eWM"
      },
      "execution_count": null,
      "outputs": []
    },
    {
      "cell_type": "code",
      "source": [
        "indice_4_9 = texto_cifrado_4.index('K')\n",
        "texto_plano_4[indice_4_9]"
      ],
      "metadata": {
        "id": "7TQHtKrM9gP8"
      },
      "execution_count": null,
      "outputs": []
    },
    {
      "cell_type": "code",
      "source": [
        "indice_4_10 = texto_cifrado_4.index('A')\n",
        "texto_plano_4[indice_4_10]"
      ],
      "metadata": {
        "id": "J2dk3PmK9iak"
      },
      "execution_count": null,
      "outputs": []
    }
  ]
}